{
 "cells": [
  {
   "cell_type": "markdown",
   "metadata": {},
   "source": [
    "# Project: Stroke Classification\n",
    "\n",
    "author: Jingru Zhang"
   ]
  },
  {
   "cell_type": "code",
   "execution_count": 2,
   "metadata": {},
   "outputs": [],
   "source": [
    "# import libraries\n",
    "\n",
    "import pandas as pd\n",
    "import numpy as np \n",
    "import matplotlib.pyplot as plt\n",
    "import seaborn as sns\n",
    "from sklearn.preprocessing import LabelEncoder\n",
    "from sklearn.model_selection import train_test_split\n",
    "from sklearn.preprocessing import StandardScaler \n",
    "from imblearn.over_sampling import SMOTE\n",
    "from imblearn.under_sampling import RandomUnderSampler\n",
    "from sklearn.neighbors import KNeighborsClassifier\n",
    "from sklearn.svm import SVC\n",
    "from sklearn.ensemble import RandomForestClassifier\n",
    "from sklearn.tree import DecisionTreeClassifier\n",
    "from sklearn.linear_model import LogisticRegression\n",
    "from xgboost import XGBClassifier\n",
    "from sklearn.metrics import accuracy_score, confusion_matrix, roc_auc_score, ConfusionMatrixDisplay, precision_score, recall_score, f1_score, classification_report, roc_curve, plot_roc_curve, auc, precision_recall_curve, plot_precision_recall_curve, average_precision_score\n",
    "from sklearn.model_selection import cross_val_score\n",
    "from sklearn.model_selection import GridSearchCV, RandomizedSearchCV"
   ]
  },
  {
   "cell_type": "markdown",
   "metadata": {},
   "source": [
    "## 1. Introduction\n",
    "\n",
    "A stroke is a serious life-threatening medical condition that happens when the blood supply to part of the brain is cut off. Strokes are a medical emergency and urgent treatment is essential, the sooner a person receives treatment for a stroke, the less damage is likely to happen. (Credit to NHS UK https://www.nhs.uk/conditions/stroke/). According to CDC (https://www.cdc.gov/stroke/facts.htm), someone in the United States has stroke every 40 seconds, and every 4 minutes, someone dies of stroke. Every year, more than 795,000 people in the United States have a stroke. About 610,000 of these are first or new strokes. About 185,000 strokes, nearly 1 of 4, are in people who have had a previous stroke. Stroke-related costs in the United States came to nearly $46 billion between 2014 and 2015. This total includes the cost of health care services, medicines to treat stroke, and missed days of work. Stroke is also a leading cause of serious long-term disability. Stroke reduces mobility in more than half of stroke survivors age 65 and over. Because of the life-threatening nature of stroke, it is extremely important to take early action. Know the warning signs and symptoms of stroke so that one can act fast if you or someone you know might be having a stroke. The chances of survival are greater when emergency treatment begins quickly. In addition, high blood pressure, high cholesterol, smoking, obesity and diabetes are generally regarded as leading causes of stroke, while 1 in 3 adults in the United States has at least one of these conditions, making the prediction of stroke risk even more important as compared to other population without these conditions."
   ]
  },
  {
   "cell_type": "markdown",
   "metadata": {},
   "source": [
    "## 2. Data\n",
    "\n",
    "The stroke dataset I used in this project is from Kaggle. The dataset has the following attribute information:\n",
    "- id: unique identifier\n",
    "- gender: \"Male\", \"Female\" or \"Other\"\n",
    "- age: age of the patient\n",
    "- hypertension: 0 if the patient doesn't have hypertension, 1 if the patient has hypertension\n",
    "- heart_disease: 0 if the patient doesn't have any heart diseases, 1 if the patient has a heart disease\n",
    "- ever_married: \"No\" or \"Yes\"\n",
    "- work_type: \"children\", \"Govt_jov\", \"Never_worked\", \"Private\" or \"Self-employed\"\n",
    "- Residence_type: \"Rural\" or \"Urban\"\n",
    "- avg_glucose_level: average glucose level in blood\n",
    "- bmi: body mass index\n",
    "- smoking_status: \"formerly smoked\", \"never smoked\", \"smokes\" or \"Unknown\"\n",
    "- stroke: 1 if the patient had a stroke or 0 if not\n",
    "\n",
    "\n",
    "The “Other” in gender means people who identify their gender other than “Male” or “Female”, the “Unknown” in smoking_status indicates the corresponding information is unavailable for this person.\n"
   ]
  },
  {
   "cell_type": "markdown",
   "metadata": {},
   "source": [
    "## 3. Task\n",
    "\n",
    "Given the attributes in the dataset, the “stroke” is the target variable, and the rest except the “id” will be the independent variables, the target of the project is to provide an accurate model to predict the stroke risk using the independent variables. If an accurate model can be achieved, since the independent variables can be obtained for every patient at admission, it would provide a convenient way to mitigate the damage of stroke."
   ]
  },
  {
   "cell_type": "markdown",
   "metadata": {},
   "source": [
    "## 4. Exploratory Data Analysis"
   ]
  },
  {
   "cell_type": "code",
   "execution_count": 3,
   "metadata": {},
   "outputs": [
    {
     "data": {
      "text/html": [
       "<div>\n",
       "<style scoped>\n",
       "    .dataframe tbody tr th:only-of-type {\n",
       "        vertical-align: middle;\n",
       "    }\n",
       "\n",
       "    .dataframe tbody tr th {\n",
       "        vertical-align: top;\n",
       "    }\n",
       "\n",
       "    .dataframe thead th {\n",
       "        text-align: right;\n",
       "    }\n",
       "</style>\n",
       "<table border=\"1\" class=\"dataframe\">\n",
       "  <thead>\n",
       "    <tr style=\"text-align: right;\">\n",
       "      <th></th>\n",
       "      <th>id</th>\n",
       "      <th>gender</th>\n",
       "      <th>age</th>\n",
       "      <th>hypertension</th>\n",
       "      <th>heart_disease</th>\n",
       "      <th>ever_married</th>\n",
       "      <th>work_type</th>\n",
       "      <th>Residence_type</th>\n",
       "      <th>avg_glucose_level</th>\n",
       "      <th>bmi</th>\n",
       "      <th>smoking_status</th>\n",
       "      <th>stroke</th>\n",
       "    </tr>\n",
       "  </thead>\n",
       "  <tbody>\n",
       "    <tr>\n",
       "      <th>0</th>\n",
       "      <td>9046</td>\n",
       "      <td>Male</td>\n",
       "      <td>67.0</td>\n",
       "      <td>0</td>\n",
       "      <td>1</td>\n",
       "      <td>Yes</td>\n",
       "      <td>Private</td>\n",
       "      <td>Urban</td>\n",
       "      <td>228.69</td>\n",
       "      <td>36.6</td>\n",
       "      <td>formerly smoked</td>\n",
       "      <td>1</td>\n",
       "    </tr>\n",
       "    <tr>\n",
       "      <th>1</th>\n",
       "      <td>51676</td>\n",
       "      <td>Female</td>\n",
       "      <td>61.0</td>\n",
       "      <td>0</td>\n",
       "      <td>0</td>\n",
       "      <td>Yes</td>\n",
       "      <td>Self-employed</td>\n",
       "      <td>Rural</td>\n",
       "      <td>202.21</td>\n",
       "      <td>NaN</td>\n",
       "      <td>never smoked</td>\n",
       "      <td>1</td>\n",
       "    </tr>\n",
       "    <tr>\n",
       "      <th>2</th>\n",
       "      <td>31112</td>\n",
       "      <td>Male</td>\n",
       "      <td>80.0</td>\n",
       "      <td>0</td>\n",
       "      <td>1</td>\n",
       "      <td>Yes</td>\n",
       "      <td>Private</td>\n",
       "      <td>Rural</td>\n",
       "      <td>105.92</td>\n",
       "      <td>32.5</td>\n",
       "      <td>never smoked</td>\n",
       "      <td>1</td>\n",
       "    </tr>\n",
       "    <tr>\n",
       "      <th>3</th>\n",
       "      <td>60182</td>\n",
       "      <td>Female</td>\n",
       "      <td>49.0</td>\n",
       "      <td>0</td>\n",
       "      <td>0</td>\n",
       "      <td>Yes</td>\n",
       "      <td>Private</td>\n",
       "      <td>Urban</td>\n",
       "      <td>171.23</td>\n",
       "      <td>34.4</td>\n",
       "      <td>smokes</td>\n",
       "      <td>1</td>\n",
       "    </tr>\n",
       "    <tr>\n",
       "      <th>4</th>\n",
       "      <td>1665</td>\n",
       "      <td>Female</td>\n",
       "      <td>79.0</td>\n",
       "      <td>1</td>\n",
       "      <td>0</td>\n",
       "      <td>Yes</td>\n",
       "      <td>Self-employed</td>\n",
       "      <td>Rural</td>\n",
       "      <td>174.12</td>\n",
       "      <td>24.0</td>\n",
       "      <td>never smoked</td>\n",
       "      <td>1</td>\n",
       "    </tr>\n",
       "  </tbody>\n",
       "</table>\n",
       "</div>"
      ],
      "text/plain": [
       "      id  gender   age  hypertension  heart_disease ever_married  \\\n",
       "0   9046    Male  67.0             0              1          Yes   \n",
       "1  51676  Female  61.0             0              0          Yes   \n",
       "2  31112    Male  80.0             0              1          Yes   \n",
       "3  60182  Female  49.0             0              0          Yes   \n",
       "4   1665  Female  79.0             1              0          Yes   \n",
       "\n",
       "       work_type Residence_type  avg_glucose_level   bmi   smoking_status  \\\n",
       "0        Private          Urban             228.69  36.6  formerly smoked   \n",
       "1  Self-employed          Rural             202.21   NaN     never smoked   \n",
       "2        Private          Rural             105.92  32.5     never smoked   \n",
       "3        Private          Urban             171.23  34.4           smokes   \n",
       "4  Self-employed          Rural             174.12  24.0     never smoked   \n",
       "\n",
       "   stroke  \n",
       "0       1  \n",
       "1       1  \n",
       "2       1  \n",
       "3       1  \n",
       "4       1  "
      ]
     },
     "execution_count": 3,
     "metadata": {},
     "output_type": "execute_result"
    }
   ],
   "source": [
    "# load scaped dataset and display the first 5 rows.\n",
    "\n",
    "data_orig = pd.read_csv('F:/Data Science/Applied Data Science/Project1/healthcare-dataset-stroke-data.csv')\n",
    "data_orig.head()"
   ]
  },
  {
   "cell_type": "code",
   "execution_count": 3,
   "metadata": {},
   "outputs": [],
   "source": [
    "# make a copy of the dataset\n",
    "\n",
    "data = data_orig.copy()"
   ]
  },
  {
   "cell_type": "code",
   "execution_count": 4,
   "metadata": {},
   "outputs": [],
   "source": [
    "# repalace 0/1 with strings for plot\n",
    "\n",
    "data.stroke = data.stroke.apply(lambda x: 'Stroke' if x==1 else 'Not Stroke')"
   ]
  },
  {
   "cell_type": "code",
   "execution_count": 5,
   "metadata": {},
   "outputs": [
    {
     "name": "stdout",
     "output_type": "stream",
     "text": [
      "<class 'pandas.core.frame.DataFrame'>\n",
      "RangeIndex: 5110 entries, 0 to 5109\n",
      "Data columns (total 12 columns):\n",
      " #   Column             Non-Null Count  Dtype  \n",
      "---  ------             --------------  -----  \n",
      " 0   id                 5110 non-null   int64  \n",
      " 1   gender             5110 non-null   object \n",
      " 2   age                5110 non-null   float64\n",
      " 3   hypertension       5110 non-null   int64  \n",
      " 4   heart_disease      5110 non-null   int64  \n",
      " 5   ever_married       5110 non-null   object \n",
      " 6   work_type          5110 non-null   object \n",
      " 7   Residence_type     5110 non-null   object \n",
      " 8   avg_glucose_level  5110 non-null   float64\n",
      " 9   bmi                4909 non-null   float64\n",
      " 10  smoking_status     5110 non-null   object \n",
      " 11  stroke             5110 non-null   object \n",
      "dtypes: float64(3), int64(3), object(6)\n",
      "memory usage: 479.2+ KB\n"
     ]
    }
   ],
   "source": [
    "# display info\n",
    "\n",
    "data.info()"
   ]
  },
  {
   "cell_type": "code",
   "execution_count": 6,
   "metadata": {},
   "outputs": [
    {
     "data": {
      "text/html": [
       "<div>\n",
       "<style scoped>\n",
       "    .dataframe tbody tr th:only-of-type {\n",
       "        vertical-align: middle;\n",
       "    }\n",
       "\n",
       "    .dataframe tbody tr th {\n",
       "        vertical-align: top;\n",
       "    }\n",
       "\n",
       "    .dataframe thead th {\n",
       "        text-align: right;\n",
       "    }\n",
       "</style>\n",
       "<table border=\"1\" class=\"dataframe\">\n",
       "  <thead>\n",
       "    <tr style=\"text-align: right;\">\n",
       "      <th></th>\n",
       "      <th>id</th>\n",
       "      <th>age</th>\n",
       "      <th>hypertension</th>\n",
       "      <th>heart_disease</th>\n",
       "      <th>avg_glucose_level</th>\n",
       "      <th>bmi</th>\n",
       "    </tr>\n",
       "  </thead>\n",
       "  <tbody>\n",
       "    <tr>\n",
       "      <th>count</th>\n",
       "      <td>5110.000000</td>\n",
       "      <td>5110.000000</td>\n",
       "      <td>5110.000000</td>\n",
       "      <td>5110.000000</td>\n",
       "      <td>5110.000000</td>\n",
       "      <td>4909.000000</td>\n",
       "    </tr>\n",
       "    <tr>\n",
       "      <th>mean</th>\n",
       "      <td>36517.829354</td>\n",
       "      <td>43.226614</td>\n",
       "      <td>0.097456</td>\n",
       "      <td>0.054012</td>\n",
       "      <td>106.147677</td>\n",
       "      <td>28.893237</td>\n",
       "    </tr>\n",
       "    <tr>\n",
       "      <th>std</th>\n",
       "      <td>21161.721625</td>\n",
       "      <td>22.612647</td>\n",
       "      <td>0.296607</td>\n",
       "      <td>0.226063</td>\n",
       "      <td>45.283560</td>\n",
       "      <td>7.854067</td>\n",
       "    </tr>\n",
       "    <tr>\n",
       "      <th>min</th>\n",
       "      <td>67.000000</td>\n",
       "      <td>0.080000</td>\n",
       "      <td>0.000000</td>\n",
       "      <td>0.000000</td>\n",
       "      <td>55.120000</td>\n",
       "      <td>10.300000</td>\n",
       "    </tr>\n",
       "    <tr>\n",
       "      <th>25%</th>\n",
       "      <td>17741.250000</td>\n",
       "      <td>25.000000</td>\n",
       "      <td>0.000000</td>\n",
       "      <td>0.000000</td>\n",
       "      <td>77.245000</td>\n",
       "      <td>23.500000</td>\n",
       "    </tr>\n",
       "    <tr>\n",
       "      <th>50%</th>\n",
       "      <td>36932.000000</td>\n",
       "      <td>45.000000</td>\n",
       "      <td>0.000000</td>\n",
       "      <td>0.000000</td>\n",
       "      <td>91.885000</td>\n",
       "      <td>28.100000</td>\n",
       "    </tr>\n",
       "    <tr>\n",
       "      <th>75%</th>\n",
       "      <td>54682.000000</td>\n",
       "      <td>61.000000</td>\n",
       "      <td>0.000000</td>\n",
       "      <td>0.000000</td>\n",
       "      <td>114.090000</td>\n",
       "      <td>33.100000</td>\n",
       "    </tr>\n",
       "    <tr>\n",
       "      <th>max</th>\n",
       "      <td>72940.000000</td>\n",
       "      <td>82.000000</td>\n",
       "      <td>1.000000</td>\n",
       "      <td>1.000000</td>\n",
       "      <td>271.740000</td>\n",
       "      <td>97.600000</td>\n",
       "    </tr>\n",
       "  </tbody>\n",
       "</table>\n",
       "</div>"
      ],
      "text/plain": [
       "                 id          age  hypertension  heart_disease  \\\n",
       "count   5110.000000  5110.000000   5110.000000    5110.000000   \n",
       "mean   36517.829354    43.226614      0.097456       0.054012   \n",
       "std    21161.721625    22.612647      0.296607       0.226063   \n",
       "min       67.000000     0.080000      0.000000       0.000000   \n",
       "25%    17741.250000    25.000000      0.000000       0.000000   \n",
       "50%    36932.000000    45.000000      0.000000       0.000000   \n",
       "75%    54682.000000    61.000000      0.000000       0.000000   \n",
       "max    72940.000000    82.000000      1.000000       1.000000   \n",
       "\n",
       "       avg_glucose_level          bmi  \n",
       "count        5110.000000  4909.000000  \n",
       "mean          106.147677    28.893237  \n",
       "std            45.283560     7.854067  \n",
       "min            55.120000    10.300000  \n",
       "25%            77.245000    23.500000  \n",
       "50%            91.885000    28.100000  \n",
       "75%           114.090000    33.100000  \n",
       "max           271.740000    97.600000  "
      ]
     },
     "execution_count": 6,
     "metadata": {},
     "output_type": "execute_result"
    }
   ],
   "source": [
    "# display basic statistics for numerical attributes\n",
    "\n",
    "data.describe()"
   ]
  },
  {
   "cell_type": "code",
   "execution_count": 28,
   "metadata": {},
   "outputs": [
    {
     "data": {
      "text/plain": [
       "0"
      ]
     },
     "execution_count": 28,
     "metadata": {},
     "output_type": "execute_result"
    }
   ],
   "source": [
    "# drop \"id\"\n",
    "\n",
    "data_orig.duplicated().sum()"
   ]
  },
  {
   "cell_type": "code",
   "execution_count": 7,
   "metadata": {},
   "outputs": [
    {
     "data": {
      "text/plain": [
       "id                     0\n",
       "gender                 0\n",
       "age                    0\n",
       "hypertension           0\n",
       "heart_disease          0\n",
       "ever_married           0\n",
       "work_type              0\n",
       "Residence_type         0\n",
       "avg_glucose_level      0\n",
       "bmi                  201\n",
       "smoking_status         0\n",
       "stroke                 0\n",
       "dtype: int64"
      ]
     },
     "execution_count": 7,
     "metadata": {},
     "output_type": "execute_result"
    }
   ],
   "source": [
    "# check the missing value\n",
    "\n",
    "data.isna().sum()"
   ]
  },
  {
   "cell_type": "code",
   "execution_count": 8,
   "metadata": {},
   "outputs": [
    {
     "data": {
      "text/plain": [
       "Female    2994\n",
       "Male      2115\n",
       "Other        1\n",
       "Name: gender, dtype: int64"
      ]
     },
     "execution_count": 8,
     "metadata": {},
     "output_type": "execute_result"
    }
   ],
   "source": [
    "# gender value counts\n",
    "\n",
    "data.gender.value_counts()"
   ]
  },
  {
   "cell_type": "code",
   "execution_count": 9,
   "metadata": {},
   "outputs": [
    {
     "data": {
      "text/plain": [
       "Text(0.5, 0, 'Patient Type')"
      ]
     },
     "execution_count": 9,
     "metadata": {},
     "output_type": "execute_result"
    },
    {
     "data": {
      "image/png": "[encoded data removed]",
      "text/plain": [
       "<Figure size 432x288 with 1 Axes>"
      ]
     },
     "metadata": {
      "needs_background": "light"
     },
     "output_type": "display_data"
    }
   ],
   "source": [
    "# bar plot for gender\n",
    "\n",
    "sns.countplot(x='stroke', hue='gender', data=data)\n",
    "plt.ylabel('Count', fontsize=14)\n",
    "plt.xlabel('Patient Type', fontsize=14)"
   ]
  },
  {
   "cell_type": "code",
   "execution_count": 10,
   "metadata": {},
   "outputs": [
    {
     "data": {
      "text/plain": [
       "Text(0.5, 0, 'Stroke')"
      ]
     },
     "execution_count": 10,
     "metadata": {},
     "output_type": "execute_result"
    },
    {
     "data": {
      "image/png": "[encoded data removed]",
      "text/plain": [
       "<Figure size 432x288 with 1 Axes>"
      ]
     },
     "metadata": {
      "needs_background": "light"
     },
     "output_type": "display_data"
    }
   ],
   "source": [
    "# bar plot for stroke\n",
    "\n",
    "sns.countplot(x='stroke',data=data)\n",
    "plt.ylabel('Count', fontsize=14)\n",
    "plt.xlabel('Stroke', fontsize=14)"
   ]
  },
  {
   "cell_type": "code",
   "execution_count": 11,
   "metadata": {},
   "outputs": [
    {
     "data": {
      "text/plain": [
       "([<matplotlib.patches.Wedge at 0x182c2065588>,\n",
       "  <matplotlib.patches.Wedge at 0x182c206d248>],\n",
       " [Text(-0.23767897635696644, 1.1251705222755815, 'Female'),\n",
       "  Text(0.2376789763569666, -1.1251705222755815, 'Male')],\n",
       " [Text(-0.11367255390985352, 0.5381250323926694, '56.6%'),\n",
       "  Text(0.11367255390985358, -0.5381250323926694, '43.4%')])"
      ]
     },
     "execution_count": 11,
     "metadata": {},
     "output_type": "execute_result"
    },
    {
     "data": {
      "image/png": "[encoded data removed]",
      "text/plain": [
       "<Figure size 432x288 with 1 Axes>"
      ]
     },
     "metadata": {},
     "output_type": "display_data"
    }
   ],
   "source": [
    "# pie chart for male and female with stroke\n",
    "\n",
    "plt.pie(data_orig.query('stroke == 1').gender.value_counts(), autopct=\"%.1f%%\", labels=['Female', 'Male'], pctdistance=0.5, \n",
    "        explode=[0.05]*2)"
   ]
  },
  {
   "cell_type": "code",
   "execution_count": 12,
   "metadata": {},
   "outputs": [
    {
     "data": {
      "text/plain": [
       "Text(0.5, 0, 'Age')"
      ]
     },
     "execution_count": 12,
     "metadata": {},
     "output_type": "execute_result"
    },
    {
     "data": {
      "image/png": "[encoded data removed]",
      "text/plain": [
       "<Figure size 432x288 with 1 Axes>"
      ]
     },
     "metadata": {
      "needs_background": "light"
     },
     "output_type": "display_data"
    }
   ],
   "source": [
    "# box plot for age\n",
    "\n",
    "sns.boxplot(x='age', data=data)\n",
    "plt.xlabel('Age', fontsize=14)"
   ]
  },
  {
   "cell_type": "code",
   "execution_count": 13,
   "metadata": {},
   "outputs": [
    {
     "data": {
      "text/plain": [
       "<matplotlib.legend.Legend at 0x182c20ff848>"
      ]
     },
     "execution_count": 13,
     "metadata": {},
     "output_type": "execute_result"
    },
    {
     "data": {
      "image/png": "[encoded data removed]",
      "text/plain": [
       "<Figure size 432x288 with 1 Axes>"
      ]
     },
     "metadata": {
      "needs_background": "light"
     },
     "output_type": "display_data"
    }
   ],
   "source": [
    "# age distribution plot \n",
    "\n",
    "sns.kdeplot(data_orig.query('stroke == 1')['age'], color = 'red', shade = True, label = 'Had a stroke', alpha = 0.5)\n",
    "sns.kdeplot(data_orig.query('stroke == 0')['age'], color = 'green', shade = True, label = \"Didn't have a stroke\", alpha = 0.5)\n",
    "plt.ylabel('')\n",
    "plt.xlabel('Age', fontsize=14)\n",
    "plt.yticks([])\n",
    "plt.legend(loc = 'upper left')"
   ]
  },
  {
   "cell_type": "code",
   "execution_count": 14,
   "metadata": {},
   "outputs": [
    {
     "data": {
      "text/plain": [
       "<matplotlib.axes._subplots.AxesSubplot at 0x182c2178b48>"
      ]
     },
     "execution_count": 14,
     "metadata": {},
     "output_type": "execute_result"
    },
    {
     "data": {
      "image/png": "[encoded data removed]",
      "text/plain": [
       "<Figure size 432x288 with 1 Axes>"
      ]
     },
     "metadata": {
      "needs_background": "light"
     },
     "output_type": "display_data"
    }
   ],
   "source": [
    "# histgram plot of age versus hypertension\n",
    "\n",
    "sns.histplot(x='age',data=data, hue='hypertension', bins=10)"
   ]
  },
  {
   "cell_type": "code",
   "execution_count": 15,
   "metadata": {},
   "outputs": [
    {
     "data": {
      "text/plain": [
       "Text(0.5, 0, 'Patient Type')"
      ]
     },
     "execution_count": 15,
     "metadata": {},
     "output_type": "execute_result"
    },
    {
     "data": {
      "image/png": "[encoded data removed]",
      "text/plain": [
       "<Figure size 432x288 with 1 Axes>"
      ]
     },
     "metadata": {
      "needs_background": "light"
     },
     "output_type": "display_data"
    }
   ],
   "source": [
    "# bar plot for hypertension\n",
    "\n",
    "sns.countplot(x='stroke', hue='hypertension', data=data)\n",
    "plt.ylabel('Count', fontsize=14)\n",
    "plt.xlabel('Patient Type', fontsize=14)"
   ]
  },
  {
   "cell_type": "code",
   "execution_count": 16,
   "metadata": {},
   "outputs": [
    {
     "data": {
      "text/plain": [
       "([<matplotlib.patches.Wedge at 0x182c22b78c8>,\n",
       "  <matplotlib.patches.Wedge at 0x182c22bd508>],\n",
       " [Text(-0.7738033895938559, 0.8507222309620571, 'No Hypertension'),\n",
       "  Text(0.7738033895938552, -0.8507222309620575, 'Hypertension')],\n",
       " [Text(-0.3700798819796701, 0.40686715393837514, '73.5%'),\n",
       "  Text(0.3700798819796699, -0.4068671539383753, '26.5%')])"
      ]
     },
     "execution_count": 16,
     "metadata": {},
     "output_type": "execute_result"
    },
    {
     "data": {
      "image/png": "[encoded data removed]",
      "text/plain": [
       "<Figure size 432x288 with 1 Axes>"
      ]
     },
     "metadata": {},
     "output_type": "display_data"
    }
   ],
   "source": [
    "# pie chart for hypertension \n",
    "\n",
    "plt.pie(data_orig.query('stroke == 1').hypertension.value_counts(), autopct=\"%.1f%%\", labels=['No Hypertension','Hypertension'], \n",
    "        pctdistance=0.5, explode=[0.05]*2)"
   ]
  },
  {
   "cell_type": "code",
   "execution_count": 17,
   "metadata": {},
   "outputs": [
    {
     "data": {
      "text/plain": [
       "Text(0.5, 0, 'Patient Type')"
      ]
     },
     "execution_count": 17,
     "metadata": {},
     "output_type": "execute_result"
    },
    {
     "data": {
      "image/png": "[encoded data removed]",
      "text/plain": [
       "<Figure size 432x288 with 1 Axes>"
      ]
     },
     "metadata": {
      "needs_background": "light"
     },
     "output_type": "display_data"
    }
   ],
   "source": [
    "# bar plot for heart_disease\n",
    "\n",
    "sns.countplot(x='stroke', hue='heart_disease', data=data)\n",
    "plt.ylabel('Count', fontsize=14)\n",
    "plt.xlabel('Patient Type', fontsize=14)"
   ]
  },
  {
   "cell_type": "code",
   "execution_count": 18,
   "metadata": {},
   "outputs": [
    {
     "data": {
      "text/plain": [
       "Text(0.5, 0, 'Patient Type')"
      ]
     },
     "execution_count": 18,
     "metadata": {},
     "output_type": "execute_result"
    },
    {
     "data": {
      "image/png": "[encoded data removed]",
      "text/plain": [
       "<Figure size 432x288 with 1 Axes>"
      ]
     },
     "metadata": {
      "needs_background": "light"
     },
     "output_type": "display_data"
    }
   ],
   "source": [
    "# bar plot for ever_married\n",
    "\n",
    "sns.countplot(x='stroke', hue='ever_married', data=data)\n",
    "plt.ylabel('Count', fontsize=14)\n",
    "plt.xlabel('Patient Type', fontsize=14)"
   ]
  },
  {
   "cell_type": "code",
   "execution_count": 19,
   "metadata": {},
   "outputs": [
    {
     "data": {
      "text/plain": [
       "([<matplotlib.patches.Wedge at 0x182c23d4588>,\n",
       "  <matplotlib.patches.Wedge at 0x182c23d91c8>],\n",
       " [Text(-1.0738772573481417, 0.4114457876202324, 'Married'),\n",
       "  Text(1.0738772573481417, -0.41144578762023204, 'Single')],\n",
       " [Text(-0.5135934709056329, 0.19677842016619806, '88.4%'),\n",
       "  Text(0.513593470905633, -0.1967784201661979, '11.6%')])"
      ]
     },
     "execution_count": 19,
     "metadata": {},
     "output_type": "execute_result"
    },
    {
     "data": {
      "image/png": "[encoded data removed]",
      "text/plain": [
       "<Figure size 432x288 with 1 Axes>"
      ]
     },
     "metadata": {},
     "output_type": "display_data"
    }
   ],
   "source": [
    "# pie chart for poeple with different marital status with stroke\n",
    "\n",
    "plt.pie(data_orig.query('stroke == 1').ever_married.value_counts(), autopct=\"%.1f%%\", labels=['Married', 'Single'], pctdistance=0.5,\n",
    "        explode=[0.05]*2)"
   ]
  },
  {
   "cell_type": "code",
   "execution_count": 20,
   "metadata": {},
   "outputs": [
    {
     "data": {
      "text/plain": [
       "Text(0.5, 0, 'Work Type')"
      ]
     },
     "execution_count": 20,
     "metadata": {},
     "output_type": "execute_result"
    },
    {
     "data": {
      "image/png": "[encoded data removed]",
      "text/plain": [
       "<Figure size 432x288 with 1 Axes>"
      ]
     },
     "metadata": {
      "needs_background": "light"
     },
     "output_type": "display_data"
    }
   ],
   "source": [
    "# bar plot for work_type\n",
    "\n",
    "sns.countplot(x='work_type', hue='stroke',data=data)\n",
    "plt.ylabel('Count', fontsize=14)\n",
    "plt.xlabel('Work Type', fontsize=14)"
   ]
  },
  {
   "cell_type": "code",
   "execution_count": 21,
   "metadata": {},
   "outputs": [
    {
     "data": {
      "text/plain": [
       "([<matplotlib.patches.Wedge at 0x182c3471a48>,\n",
       "  <matplotlib.patches.Wedge at 0x182c3477688>,\n",
       "  <matplotlib.patches.Wedge at 0x182c347c608>,\n",
       "  <matplotlib.patches.Wedge at 0x182c3483648>],\n",
       " [Text(-0.3498453004019864, 1.0954945302404044, 'Private'),\n",
       "  Text(-0.1519032023305216, -1.1399234259904183, 'Self-employed'),\n",
       "  Text(1.0269529429408382, -0.5175593231554734, 'Govt_job'),\n",
       "  Text(1.1496338921567373, -0.029015754419823663, 'Chindren')],\n",
       " [Text(-0.1673173175835587, 0.523932166636715, '59.8%'),\n",
       "  Text(-0.0726493576363364, -0.5451807689519391, '26.1%'),\n",
       "  Text(0.4911514074934443, -0.247528371943922, '13.3%'),\n",
       "  Text(0.5498249049445265, -0.013877099939915665, '0.8%')])"
      ]
     },
     "execution_count": 21,
     "metadata": {},
     "output_type": "execute_result"
    },
    {
     "data": {
      "image/png": "[encoded data removed]",
      "text/plain": [
       "<Figure size 432x288 with 1 Axes>"
      ]
     },
     "metadata": {},
     "output_type": "display_data"
    }
   ],
   "source": [
    "# pie chart for poeple with different jobs with stroke\n",
    "\n",
    "plt.pie(data_orig.query('stroke == 1').work_type.value_counts(), autopct=\"%.1f%%\", labels=['Private', 'Self-employed', 'Govt_job', 'Chindren'], \n",
    "        pctdistance=0.5, explode=[0.05]*4)"
   ]
  },
  {
   "cell_type": "code",
   "execution_count": 22,
   "metadata": {},
   "outputs": [
    {
     "data": {
      "text/plain": [
       "Text(0.5, 0, 'Patient Type')"
      ]
     },
     "execution_count": 22,
     "metadata": {},
     "output_type": "execute_result"
    },
    {
     "data": {
      "image/png": "[encoded data removed]",
      "text/plain": [
       "<Figure size 432x288 with 1 Axes>"
      ]
     },
     "metadata": {
      "needs_background": "light"
     },
     "output_type": "display_data"
    }
   ],
   "source": [
    "# bar plot for Residence_type\n",
    "\n",
    "sns.countplot(x='stroke', hue='Residence_type', data=data)\n",
    "plt.ylabel('Count', fontsize=14)\n",
    "plt.xlabel('Patient Type', fontsize=14)"
   ]
  },
  {
   "cell_type": "code",
   "execution_count": 23,
   "metadata": {},
   "outputs": [
    {
     "data": {
      "text/plain": [
       "Text(0.5, 0, 'Average Glucose Level')"
      ]
     },
     "execution_count": 23,
     "metadata": {},
     "output_type": "execute_result"
    },
    {
     "data": {
      "image/png": "[encoded data removed]",
      "text/plain": [
       "<Figure size 432x288 with 1 Axes>"
      ]
     },
     "metadata": {
      "needs_background": "light"
     },
     "output_type": "display_data"
    }
   ],
   "source": [
    "# box plot for avg_glucose_level\n",
    "\n",
    "sns.boxplot(x ='avg_glucose_level', data=data)\n",
    "plt.xlabel('Average Glucose Level', fontsize=14)"
   ]
  },
  {
   "cell_type": "code",
   "execution_count": 3,
   "metadata": {},
   "outputs": [
    {
     "data": {
      "text/plain": [
       "<matplotlib.axes._subplots.AxesSubplot at 0x19873384b88>"
      ]
     },
     "execution_count": 3,
     "metadata": {},
     "output_type": "execute_result"
    },
    {
     "data": {
      "image/png": "[encoded data removed]",
      "text/plain": [
       "<Figure size 432x288 with 1 Axes>"
      ]
     },
     "metadata": {
      "needs_background": "light"
     },
     "output_type": "display_data"
    }
   ],
   "source": [
    "sns.boxplot(x='bmi', data=data_orig)"
   ]
  },
  {
   "cell_type": "code",
   "execution_count": 127,
   "metadata": {},
   "outputs": [
    {
     "data": {
      "text/plain": [
       "<matplotlib.legend.Legend at 0x1c12533ed48>"
      ]
     },
     "execution_count": 127,
     "metadata": {},
     "output_type": "execute_result"
    },
    {
     "data": {
      "image/png": "[encoded data removed]",
      "text/plain": [
       "<Figure size 432x288 with 1 Axes>"
      ]
     },
     "metadata": {
      "needs_background": "light"
     },
     "output_type": "display_data"
    }
   ],
   "source": [
    "# avg_glucose_level distribution plot \n",
    "\n",
    "sns.kdeplot(data_orig.query('stroke == 1')['avg_glucose_level'], color = 'red', shade = True, label = 'Had a stroke', alpha = 0.5)\n",
    "sns.kdeplot(data_orig.query('stroke == 0')['avg_glucose_level'], color = 'green', shade = True, label = \"Didn't have a stroke\", \n",
    "            alpha = 0.5)\n",
    "plt.axvline(x = 160, color = 'b', linestyle = '--')\n",
    "plt.text(98, 0.016, \"Diabetes\", size= 12, color = 'b')\n",
    "plt.ylabel('')\n",
    "plt.xlabel('Average Glucose Level', fontsize=14)\n",
    "plt.yticks([])\n",
    "plt.legend(loc = 'upper right')"
   ]
  },
  {
   "cell_type": "code",
   "execution_count": 29,
   "metadata": {},
   "outputs": [],
   "source": [
    "# use bim median value to replace the missing value\n",
    "data_orig['bmi'].fillna(data_orig['bmi'].median(), inplace=True)"
   ]
  },
  {
   "cell_type": "code",
   "execution_count": 30,
   "metadata": {},
   "outputs": [
    {
     "name": "stderr",
     "output_type": "stream",
     "text": [
      "D:\\Anaconda3\\lib\\site-packages\\seaborn\\_decorators.py:43: FutureWarning: Pass the following variable as a keyword arg: x. From version 0.12, the only valid positional argument will be `data`, and passing other arguments without an explicit keyword will result in an error or misinterpretation.\n",
      "  FutureWarning\n"
     ]
    },
    {
     "data": {
      "text/plain": [
       "Text(0.5, 0, 'BMI')"
      ]
     },
     "execution_count": 30,
     "metadata": {},
     "output_type": "execute_result"
    },
    {
     "data": {
      "image/png": "[encoded data removed]",
      "text/plain": [
       "<Figure size 432x288 with 1 Axes>"
      ]
     },
     "metadata": {
      "needs_background": "light"
     },
     "output_type": "display_data"
    }
   ],
   "source": [
    "# box plot forbmi\n",
    "\n",
    "sns.boxplot(data.bmi)\n",
    "plt.xlabel('BMI', fontsize=14)"
   ]
  },
  {
   "cell_type": "code",
   "execution_count": 24,
   "metadata": {},
   "outputs": [
    {
     "data": {
      "text/plain": [
       "<matplotlib.legend.Legend at 0x182c357b9c8>"
      ]
     },
     "execution_count": 24,
     "metadata": {},
     "output_type": "execute_result"
    },
    {
     "data": {
      "image/png": "[encoded data removed]",
      "text/plain": [
       "<Figure size 432x288 with 1 Axes>"
      ]
     },
     "metadata": {
      "needs_background": "light"
     },
     "output_type": "display_data"
    }
   ],
   "source": [
    "# bmi distribution plot \n",
    "\n",
    "sns.kdeplot(data_orig.query('stroke == 1')['bmi'], color = 'red', shade = True, label = 'Had a stroke', alpha = 0.5)\n",
    "sns.kdeplot(data_orig.query('stroke == 0')['bmi'], color = 'green', shade = True, label = \"Didn't have a stroke\", alpha = 0.5)\n",
    "plt.axvline(x = 25, color = 'b', linestyle = '--')\n",
    "plt.text(2, 0.091,\"Overweighted\", size= 12, color = 'b')\n",
    "plt.ylabel('')\n",
    "plt.xlabel('BMI', fontsize=14)\n",
    "plt.yticks([])\n",
    "plt.tight_layout()\n",
    "plt.legend(loc = 'upper right')"
   ]
  },
  {
   "cell_type": "code",
   "execution_count": 25,
   "metadata": {},
   "outputs": [
    {
     "data": {
      "text/plain": [
       "Text(0.5, 0, 'Patient Type')"
      ]
     },
     "execution_count": 25,
     "metadata": {},
     "output_type": "execute_result"
    },
    {
     "data": {
      "image/png": "[encoded data removed]",
      "text/plain": [
       "<Figure size 432x288 with 1 Axes>"
      ]
     },
     "metadata": {
      "needs_background": "light"
     },
     "output_type": "display_data"
    }
   ],
   "source": [
    "# bar plot for smoking_status\n",
    "\n",
    "sns.countplot(x='stroke', hue='smoking_status', data=data)\n",
    "plt.ylabel('Count', fontsize=14)\n",
    "plt.xlabel('Patient Type', fontsize=14)"
   ]
  },
  {
   "cell_type": "code",
   "execution_count": 26,
   "metadata": {},
   "outputs": [
    {
     "data": {
      "text/plain": [
       "([<matplotlib.patches.Wedge at 0x182c366c548>,\n",
       "  <matplotlib.patches.Wedge at 0x182c3672148>,\n",
       "  <matplotlib.patches.Wedge at 0x182c36770c8>,\n",
       "  <matplotlib.patches.Wedge at 0x182c367c108>],\n",
       " [Text(0.4849148987626202, 1.0427643746110806, 'Never Smoked'),\n",
       "  Text(-1.1499084697362485, -0.014509005094756432, 'Formerly Smoked'),\n",
       "  Text(-0.09420514020419349, -1.1461349796420612, 'Unknown'),\n",
       "  Text(0.9922820919619186, -0.581271236146843, 'Smokes')],\n",
       " [Text(0.23191582114734008, 0.49871339655312547, '36.1%'),\n",
       "  Text(-0.5499562246564667, -0.00693908939314438, '28.1%'),\n",
       "  Text(-0.0450546322715708, -0.5481515120027249, '18.9%'),\n",
       "  Text(0.47456969615570016, -0.2779992868528379, '16.9%')])"
      ]
     },
     "execution_count": 26,
     "metadata": {},
     "output_type": "execute_result"
    },
    {
     "data": {
      "image/png": "[encoded data removed]",
      "text/plain": [
       "<Figure size 432x288 with 1 Axes>"
      ]
     },
     "metadata": {},
     "output_type": "display_data"
    }
   ],
   "source": [
    "# pie chart for poeple with different smoking status\n",
    "\n",
    "plt.pie(data_orig.query('stroke == 1').smoking_status.value_counts(), autopct=\"%.1f%%\", labels=['Never Smoked', 'Formerly Smoked', 'Unknown', 'Smokes'],\n",
    "        pctdistance=0.5, explode=[0.05]*4)"
   ]
  },
  {
   "cell_type": "code",
   "execution_count": 27,
   "metadata": {},
   "outputs": [
    {
     "data": {
      "image/png": "[encoded data removed]",
      "text/plain": [
       "<Figure size 432x288 with 2 Axes>"
      ]
     },
     "metadata": {
      "needs_background": "light"
     },
     "output_type": "display_data"
    }
   ],
   "source": [
    "# heatmap\n",
    "\n",
    "corr = data_orig.corr()\n",
    "ax = sns.heatmap(corr, vmin=0, vmax=1, annot=True)"
   ]
  },
  {
   "cell_type": "code",
   "execution_count": 7,
   "metadata": {},
   "outputs": [
    {
     "data": {
      "text/plain": [
       "count    4909.000000\n",
       "mean       28.893237\n",
       "std         7.854067\n",
       "min        10.300000\n",
       "25%        23.500000\n",
       "50%        28.100000\n",
       "75%        33.100000\n",
       "max        97.600000\n",
       "Name: bmi, dtype: float64"
      ]
     },
     "execution_count": 7,
     "metadata": {},
     "output_type": "execute_result"
    }
   ],
   "source": [
    "data_orig.bmi.describe()"
   ]
  },
  {
   "cell_type": "markdown",
   "metadata": {},
   "source": [
    "## 5. Data Preprocessing and Feature Engineering"
   ]
  },
  {
   "cell_type": "code",
   "execution_count": 38,
   "metadata": {},
   "outputs": [],
   "source": [
    "# make a copy\n",
    "\n",
    "df = data_orig.copy()"
   ]
  },
  {
   "cell_type": "code",
   "execution_count": 39,
   "metadata": {},
   "outputs": [
    {
     "data": {
      "text/plain": [
       "(5109, 11)"
      ]
     },
     "execution_count": 39,
     "metadata": {},
     "output_type": "execute_result"
    }
   ],
   "source": [
    "# drop id and gender=Other\n",
    "\n",
    "drop_index = df[df.gender=='Other'].index\n",
    "df.drop(columns=['id'], inplace=True)\n",
    "df.drop(index=drop_index, inplace=True)\n",
    "df.shape"
   ]
  },
  {
   "cell_type": "code",
   "execution_count": 40,
   "metadata": {},
   "outputs": [
    {
     "data": {
      "text/html": [
       "<div>\n",
       "<style scoped>\n",
       "    .dataframe tbody tr th:only-of-type {\n",
       "        vertical-align: middle;\n",
       "    }\n",
       "\n",
       "    .dataframe tbody tr th {\n",
       "        vertical-align: top;\n",
       "    }\n",
       "\n",
       "    .dataframe thead th {\n",
       "        text-align: right;\n",
       "    }\n",
       "</style>\n",
       "<table border=\"1\" class=\"dataframe\">\n",
       "  <thead>\n",
       "    <tr style=\"text-align: right;\">\n",
       "      <th></th>\n",
       "      <th>gender</th>\n",
       "      <th>age</th>\n",
       "      <th>hypertension</th>\n",
       "      <th>heart_disease</th>\n",
       "      <th>ever_married</th>\n",
       "      <th>work_type</th>\n",
       "      <th>Residence_type</th>\n",
       "      <th>avg_glucose_level</th>\n",
       "      <th>bmi</th>\n",
       "      <th>smoking_status</th>\n",
       "      <th>stroke</th>\n",
       "    </tr>\n",
       "  </thead>\n",
       "  <tbody>\n",
       "    <tr>\n",
       "      <th>5105</th>\n",
       "      <td>Female</td>\n",
       "      <td>80.0</td>\n",
       "      <td>1</td>\n",
       "      <td>0</td>\n",
       "      <td>Yes</td>\n",
       "      <td>Private</td>\n",
       "      <td>Urban</td>\n",
       "      <td>83.75</td>\n",
       "      <td>NaN</td>\n",
       "      <td>never smoked</td>\n",
       "      <td>0</td>\n",
       "    </tr>\n",
       "    <tr>\n",
       "      <th>5106</th>\n",
       "      <td>Female</td>\n",
       "      <td>81.0</td>\n",
       "      <td>0</td>\n",
       "      <td>0</td>\n",
       "      <td>Yes</td>\n",
       "      <td>Self-employed</td>\n",
       "      <td>Urban</td>\n",
       "      <td>125.20</td>\n",
       "      <td>40.0</td>\n",
       "      <td>never smoked</td>\n",
       "      <td>0</td>\n",
       "    </tr>\n",
       "    <tr>\n",
       "      <th>5107</th>\n",
       "      <td>Female</td>\n",
       "      <td>35.0</td>\n",
       "      <td>0</td>\n",
       "      <td>0</td>\n",
       "      <td>Yes</td>\n",
       "      <td>Self-employed</td>\n",
       "      <td>Rural</td>\n",
       "      <td>82.99</td>\n",
       "      <td>30.6</td>\n",
       "      <td>never smoked</td>\n",
       "      <td>0</td>\n",
       "    </tr>\n",
       "    <tr>\n",
       "      <th>5108</th>\n",
       "      <td>Male</td>\n",
       "      <td>51.0</td>\n",
       "      <td>0</td>\n",
       "      <td>0</td>\n",
       "      <td>Yes</td>\n",
       "      <td>Private</td>\n",
       "      <td>Rural</td>\n",
       "      <td>166.29</td>\n",
       "      <td>25.6</td>\n",
       "      <td>formerly smoked</td>\n",
       "      <td>0</td>\n",
       "    </tr>\n",
       "    <tr>\n",
       "      <th>5109</th>\n",
       "      <td>Female</td>\n",
       "      <td>44.0</td>\n",
       "      <td>0</td>\n",
       "      <td>0</td>\n",
       "      <td>Yes</td>\n",
       "      <td>Govt_job</td>\n",
       "      <td>Urban</td>\n",
       "      <td>85.28</td>\n",
       "      <td>26.2</td>\n",
       "      <td>Unknown</td>\n",
       "      <td>0</td>\n",
       "    </tr>\n",
       "  </tbody>\n",
       "</table>\n",
       "</div>"
      ],
      "text/plain": [
       "      gender   age  hypertension  heart_disease ever_married      work_type  \\\n",
       "5105  Female  80.0             1              0          Yes        Private   \n",
       "5106  Female  81.0             0              0          Yes  Self-employed   \n",
       "5107  Female  35.0             0              0          Yes  Self-employed   \n",
       "5108    Male  51.0             0              0          Yes        Private   \n",
       "5109  Female  44.0             0              0          Yes       Govt_job   \n",
       "\n",
       "     Residence_type  avg_glucose_level   bmi   smoking_status  stroke  \n",
       "5105          Urban              83.75   NaN     never smoked       0  \n",
       "5106          Urban             125.20  40.0     never smoked       0  \n",
       "5107          Rural              82.99  30.6     never smoked       0  \n",
       "5108          Rural             166.29  25.6  formerly smoked       0  \n",
       "5109          Urban              85.28  26.2          Unknown       0  "
      ]
     },
     "execution_count": 40,
     "metadata": {},
     "output_type": "execute_result"
    }
   ],
   "source": [
    "# reset index\n",
    "\n",
    "df.reset_index(drop=True)\n",
    "df.tail()"
   ]
  },
  {
   "cell_type": "code",
   "execution_count": 41,
   "metadata": {},
   "outputs": [
    {
     "data": {
      "text/plain": [
       "5105    28.89456\n",
       "5106    40.00000\n",
       "5107    30.60000\n",
       "5108    25.60000\n",
       "5109    26.20000\n",
       "Name: bmi, dtype: float64"
      ]
     },
     "execution_count": 41,
     "metadata": {},
     "output_type": "execute_result"
    }
   ],
   "source": [
    "# fill BMI with mean\n",
    "\n",
    "df.bmi = df.bmi.fillna(df.bmi.mean())\n",
    "df.bmi.tail()"
   ]
  },
  {
   "cell_type": "code",
   "execution_count": 42,
   "metadata": {},
   "outputs": [
    {
     "data": {
      "text/html": [
       "<div>\n",
       "<style scoped>\n",
       "    .dataframe tbody tr th:only-of-type {\n",
       "        vertical-align: middle;\n",
       "    }\n",
       "\n",
       "    .dataframe tbody tr th {\n",
       "        vertical-align: top;\n",
       "    }\n",
       "\n",
       "    .dataframe thead th {\n",
       "        text-align: right;\n",
       "    }\n",
       "</style>\n",
       "<table border=\"1\" class=\"dataframe\">\n",
       "  <thead>\n",
       "    <tr style=\"text-align: right;\">\n",
       "      <th></th>\n",
       "      <th>gender</th>\n",
       "      <th>age</th>\n",
       "      <th>hypertension</th>\n",
       "      <th>heart_disease</th>\n",
       "      <th>ever_married</th>\n",
       "      <th>work_type</th>\n",
       "      <th>Residence_type</th>\n",
       "      <th>avg_glucose_level</th>\n",
       "      <th>bmi</th>\n",
       "      <th>smoking_status</th>\n",
       "      <th>stroke</th>\n",
       "    </tr>\n",
       "  </thead>\n",
       "  <tbody>\n",
       "    <tr>\n",
       "      <th>5105</th>\n",
       "      <td>Female</td>\n",
       "      <td>1.626015</td>\n",
       "      <td>1</td>\n",
       "      <td>0</td>\n",
       "      <td>Yes</td>\n",
       "      <td>Private</td>\n",
       "      <td>Urban</td>\n",
       "      <td>-0.494433</td>\n",
       "      <td>4.614972e-16</td>\n",
       "      <td>never smoked</td>\n",
       "      <td>0</td>\n",
       "    </tr>\n",
       "    <tr>\n",
       "      <th>5106</th>\n",
       "      <td>Female</td>\n",
       "      <td>1.670236</td>\n",
       "      <td>0</td>\n",
       "      <td>0</td>\n",
       "      <td>Yes</td>\n",
       "      <td>Self-employed</td>\n",
       "      <td>Urban</td>\n",
       "      <td>0.420881</td>\n",
       "      <td>1.442596e+00</td>\n",
       "      <td>never smoked</td>\n",
       "      <td>0</td>\n",
       "    </tr>\n",
       "    <tr>\n",
       "      <th>5107</th>\n",
       "      <td>Female</td>\n",
       "      <td>-0.363940</td>\n",
       "      <td>0</td>\n",
       "      <td>0</td>\n",
       "      <td>Yes</td>\n",
       "      <td>Self-employed</td>\n",
       "      <td>Rural</td>\n",
       "      <td>-0.511216</td>\n",
       "      <td>2.215365e-01</td>\n",
       "      <td>never smoked</td>\n",
       "      <td>0</td>\n",
       "    </tr>\n",
       "    <tr>\n",
       "      <th>5108</th>\n",
       "      <td>Male</td>\n",
       "      <td>0.343600</td>\n",
       "      <td>0</td>\n",
       "      <td>0</td>\n",
       "      <td>Yes</td>\n",
       "      <td>Private</td>\n",
       "      <td>Rural</td>\n",
       "      <td>1.328245</td>\n",
       "      <td>-4.279630e-01</td>\n",
       "      <td>formerly smoked</td>\n",
       "      <td>0</td>\n",
       "    </tr>\n",
       "    <tr>\n",
       "      <th>5109</th>\n",
       "      <td>Female</td>\n",
       "      <td>0.034051</td>\n",
       "      <td>0</td>\n",
       "      <td>0</td>\n",
       "      <td>Yes</td>\n",
       "      <td>Govt_job</td>\n",
       "      <td>Urban</td>\n",
       "      <td>-0.460647</td>\n",
       "      <td>-3.500231e-01</td>\n",
       "      <td>Unknown</td>\n",
       "      <td>0</td>\n",
       "    </tr>\n",
       "  </tbody>\n",
       "</table>\n",
       "</div>"
      ],
      "text/plain": [
       "      gender       age  hypertension  heart_disease ever_married  \\\n",
       "5105  Female  1.626015             1              0          Yes   \n",
       "5106  Female  1.670236             0              0          Yes   \n",
       "5107  Female -0.363940             0              0          Yes   \n",
       "5108    Male  0.343600             0              0          Yes   \n",
       "5109  Female  0.034051             0              0          Yes   \n",
       "\n",
       "          work_type Residence_type  avg_glucose_level           bmi  \\\n",
       "5105        Private          Urban          -0.494433  4.614972e-16   \n",
       "5106  Self-employed          Urban           0.420881  1.442596e+00   \n",
       "5107  Self-employed          Rural          -0.511216  2.215365e-01   \n",
       "5108        Private          Rural           1.328245 -4.279630e-01   \n",
       "5109       Govt_job          Urban          -0.460647 -3.500231e-01   \n",
       "\n",
       "       smoking_status  stroke  \n",
       "5105     never smoked       0  \n",
       "5106     never smoked       0  \n",
       "5107     never smoked       0  \n",
       "5108  formerly smoked       0  \n",
       "5109          Unknown       0  "
      ]
     },
     "execution_count": 42,
     "metadata": {},
     "output_type": "execute_result"
    }
   ],
   "source": [
    "# Normalize age, avg_glucose_level, and bmi\n",
    "\n",
    "for col in ['age', 'avg_glucose_level', 'bmi']:\n",
    "    df[col] = (df[col]-df[col].mean())/df[col].std()\n",
    "df.tail()"
   ]
  },
  {
   "cell_type": "code",
   "execution_count": 44,
   "metadata": {},
   "outputs": [],
   "source": [
    "# One hot encoding for gender, ever_married, work_type, residence_type, smoking_status\n",
    "\n",
    "df = pd.get_dummies(df)"
   ]
  },
  {
   "cell_type": "code",
   "execution_count": 45,
   "metadata": {},
   "outputs": [
    {
     "data": {
      "text/plain": [
       "(5109, 21)"
      ]
     },
     "execution_count": 45,
     "metadata": {},
     "output_type": "execute_result"
    }
   ],
   "source": [
    "df.shape"
   ]
  },
  {
   "cell_type": "markdown",
   "metadata": {},
   "source": [
    "## 6. Machine learning Modelling"
   ]
  },
  {
   "cell_type": "code",
   "execution_count": 47,
   "metadata": {},
   "outputs": [],
   "source": [
    "# choose X, y\n",
    "X = df.drop(columns=['stroke'])\n",
    "y = df.stroke"
   ]
  },
  {
   "cell_type": "code",
   "execution_count": 77,
   "metadata": {},
   "outputs": [],
   "source": [
    "X_train, X_test, y_train, y_test = train_test_split(X, y, test_size=0.2, random_state=10)"
   ]
  },
  {
   "cell_type": "code",
   "execution_count": 70,
   "metadata": {},
   "outputs": [],
   "source": [
    "_model = []\n",
    "_train_score = []\n",
    "_test_score = []"
   ]
  },
  {
   "cell_type": "code",
   "execution_count": 84,
   "metadata": {},
   "outputs": [],
   "source": [
    "# use SMOTE to resample the train data\n",
    "\n",
    "X_train_res, y_train_res = SMOTE(random_state=0).fit_resample(X_train, y_train.ravel())"
   ]
  },
  {
   "cell_type": "markdown",
   "metadata": {},
   "source": [
    "### 6.1 Logistic regression"
   ]
  },
  {
   "cell_type": "code",
   "execution_count": 78,
   "metadata": {},
   "outputs": [
    {
     "name": "stderr",
     "output_type": "stream",
     "text": [
      "D:\\Anaconda3\\lib\\site-packages\\sklearn\\model_selection\\_search.py:921: UserWarning: One or more of the test scores are non-finite: [       nan        nan        nan        nan        nan        nan\n",
      "        nan        nan        nan        nan        nan        nan\n",
      "        nan        nan        nan        nan        nan        nan\n",
      "        nan        nan        nan 0.95424551        nan 0.95400101\n",
      "        nan 0.95400101        nan 0.95400101        nan 0.95400101\n",
      "        nan 0.95400101        nan 0.95400101        nan 0.95400101\n",
      "        nan 0.95400101        nan 0.95400101]\n",
      "  category=UserWarning\n"
     ]
    },
    {
     "data": {
      "text/plain": [
       "GridSearchCV(estimator=LogisticRegression(class_weight='weighted'), n_jobs=-1,\n",
       "             param_grid={'C': array([-4.        , -3.57894737, -3.15789474, -2.73684211, -2.31578947,\n",
       "       -1.89473684, -1.47368421, -1.05263158, -0.63157895, -0.21052632,\n",
       "        0.21052632,  0.63157895,  1.05263158,  1.47368421,  1.89473684,\n",
       "        2.31578947,  2.73684211,  3.15789474,  3.57894737,  4.        ]),\n",
       "                         'penalty': ['l1', 'l2']})"
      ]
     },
     "execution_count": 78,
     "metadata": {},
     "output_type": "execute_result"
    }
   ],
   "source": [
    "# run grid search for logistic regression\n",
    "lr = LogisticRegression(class_weight='weighted')\n",
    "lr_param_grid = {'penalty': ['l1', 'l2'],'C': np.linspace(-4, 4, 20)}\n",
    "lr_grid = GridSearchCV(estimator=lr, param_grid=lr_param_grid, n_jobs=-1)\n",
    "lr_grid.fit(X_train, y_train)"
   ]
  },
  {
   "cell_type": "code",
   "execution_count": 93,
   "metadata": {},
   "outputs": [
    {
     "data": {
      "text/plain": [
       "Text(33.0, 0.5, 'True')"
      ]
     },
     "execution_count": 93,
     "metadata": {},
     "output_type": "execute_result"
    },
    {
     "data": {
      "image/png": "[encoded data removed]",
      "text/plain": [
       "<Figure size 432x288 with 1 Axes>"
      ]
     },
     "metadata": {
      "needs_background": "light"
     },
     "output_type": "display_data"
    }
   ],
   "source": [
    "# confusion matrix of lr on original data\n",
    "y_pred_lr = lr_grid.best_estimator_.predict(X_test)\n",
    "sns.heatmap(confusion_matrix(y_test, y_pred_lr), annot=True, fmt='4d', cbar=None)\n",
    "plt.xticks([0.5, 1.5],['Not Stroke', 'Stroke'], fontsize=15)\n",
    "plt.yticks([0.5, 1.5],['Not Stroke', 'Stroke'], fontsize=15)\n",
    "plt.xlabel('Predicted', fontsize=18)\n",
    "plt.ylabel('True', fontsize=18)"
   ]
  },
  {
   "cell_type": "code",
   "execution_count": 100,
   "metadata": {},
   "outputs": [
    {
     "name": "stderr",
     "output_type": "stream",
     "text": [
      "D:\\Anaconda3\\lib\\site-packages\\sklearn\\model_selection\\_search.py:921: UserWarning: One or more of the test scores are non-finite: [       nan        nan        nan        nan        nan        nan\n",
      "        nan        nan        nan        nan        nan        nan\n",
      "        nan        nan        nan        nan        nan        nan\n",
      "        nan        nan        nan 0.86710269        nan 0.86679144\n",
      "        nan 0.86543949        nan 0.86561297        nan 0.86556014\n",
      "        nan 0.86495498        nan 0.86481917        nan 0.86436458\n",
      "        nan 0.86404192        nan 0.8641551 ]\n",
      "  category=UserWarning\n"
     ]
    },
    {
     "data": {
      "text/plain": [
       "Text(33.0, 0.5, 'True')"
      ]
     },
     "execution_count": 100,
     "metadata": {},
     "output_type": "execute_result"
    },
    {
     "data": {
      "image/png": "[encoded data removed]",
      "text/plain": [
       "<Figure size 432x288 with 1 Axes>"
      ]
     },
     "metadata": {
      "needs_background": "light"
     },
     "output_type": "display_data"
    }
   ],
   "source": [
    "# lr on resampled data\n",
    "\n",
    "lr_grid_res = GridSearchCV(estimator=LogisticRegression(), param_grid=lr_param_grid, n_jobs=-1, scoring='f1')\n",
    "lr_grid_res.fit(X_train_res, y_train_res)\n",
    "\n",
    "y_pred_lr_res = lr_grid_res.best_estimator_.predict(X_test)\n",
    "sns.heatmap(confusion_matrix(y_test, y_pred_lr_res), annot=True, fmt='4d', cbar=None)\n",
    "plt.xticks([0.5, 1.5],['Not Stroke', 'Stroke'], fontsize=15)\n",
    "plt.yticks([0.5, 1.5],['Not Stroke', 'Stroke'], fontsize=15)\n",
    "plt.xlabel('Predicted', fontsize=18)\n",
    "plt.ylabel('True', fontsize=18)"
   ]
  },
  {
   "cell_type": "code",
   "execution_count": 101,
   "metadata": {},
   "outputs": [
    {
     "data": {
      "text/plain": [
       "0.23788546255506607"
      ]
     },
     "execution_count": 101,
     "metadata": {},
     "output_type": "execute_result"
    }
   ],
   "source": [
    "f1_score(y_test, y_pred_lr_res)"
   ]
  },
  {
   "cell_type": "code",
   "execution_count": 142,
   "metadata": {},
   "outputs": [
    {
     "data": {
      "image/png": "[encoded data removed]",
      "text/plain": [
       "<Figure size 576x576 with 1 Axes>"
      ]
     },
     "metadata": {},
     "output_type": "display_data"
    }
   ],
   "source": [
    "# Roc AUC Curve\n",
    "y_prob_lr = lr_grid_res.best_estimator_.predict_proba(X_test)[:, 1]\n",
    "false_positive_rate, true_positive_rate, thresholds = roc_curve(y_test, y_prob_lr)\n",
    "roc_auc = auc(false_positive_rate, true_positive_rate)\n",
    "\n",
    "sns.set_theme(style = 'white')\n",
    "plt.figure(figsize = (8, 8))\n",
    "plt.plot(false_positive_rate,true_positive_rate, color = '#b01717', label = 'AUC = %0.3f' % roc_auc)\n",
    "plt.legend(loc = 'lower right')\n",
    "plt.plot([0, 1], [0, 1], linestyle = '--', color = '#174ab0')\n",
    "plt.axis('tight')\n",
    "plt.xlim(0,1)\n",
    "plt.ylim(0,1)\n",
    "plt.ylabel('True Positive Rate', fontsize=15)\n",
    "plt.xlabel('False Positive Rate', fontsize=15)\n",
    "plt.legend()\n",
    "plt.show()"
   ]
  },
  {
   "cell_type": "markdown",
   "metadata": {},
   "source": [
    "### 6.2 Random Forest Classifier"
   ]
  },
  {
   "cell_type": "code",
   "execution_count": 108,
   "metadata": {},
   "outputs": [],
   "source": [
    "# parameters for random forest classifier\n",
    "\n",
    "rf_param = {'bootstrap': [True, False],\n",
    " 'max_depth': [10, 20, 30, 40, 50, 60, 70, 80, 90, 100, None],\n",
    " 'max_features': ['auto', 'sqrt'],\n",
    " 'min_samples_leaf': [1, 2, 4],\n",
    " 'min_samples_split': [2, 5, 10],\n",
    " 'n_estimators': [200, 400, 600, 800, 1000, 1200, 1400, 1600, 1800, 2000]}\n",
    "rf_grid = RandomizedSearchCV(RandomForestClassifier(), param_distributions=rf_param, n_iter=100, n_jobs=-1)\n",
    "rf_grid_res = RandomizedSearchCV(RandomForestClassifier(), param_distributions=rf_param, n_iter=100, n_jobs=-1)"
   ]
  },
  {
   "cell_type": "code",
   "execution_count": 104,
   "metadata": {},
   "outputs": [
    {
     "data": {
      "text/plain": [
       "RandomizedSearchCV(estimator=RandomForestClassifier(), n_iter=50, n_jobs=-1,\n",
       "                   param_distributions={'bootstrap': [True, False],\n",
       "                                        'max_depth': [10, 20, 30, 40, 50, 60,\n",
       "                                                      70, 80, 90, 100, None],\n",
       "                                        'max_features': ['auto', 'sqrt'],\n",
       "                                        'min_samples_leaf': [1, 2, 4],\n",
       "                                        'min_samples_split': [2, 5, 10],\n",
       "                                        'n_estimators': [200, 400, 600, 800,\n",
       "                                                         1000, 1200, 1400, 1600,\n",
       "                                                         1800, 2000]})"
      ]
     },
     "execution_count": 104,
     "metadata": {},
     "output_type": "execute_result"
    }
   ],
   "source": [
    "rf_grid.fit(X_train, y_train)"
   ]
  },
  {
   "cell_type": "code",
   "execution_count": 106,
   "metadata": {},
   "outputs": [
    {
     "name": "stdout",
     "output_type": "stream",
     "text": [
      "              precision    recall  f1-score   support\n",
      "\n",
      "           0       0.94      1.00      0.97       960\n",
      "           1       0.00      0.00      0.00        62\n",
      "\n",
      "    accuracy                           0.94      1022\n",
      "   macro avg       0.47      0.50      0.48      1022\n",
      "weighted avg       0.88      0.94      0.91      1022\n",
      "\n"
     ]
    }
   ],
   "source": [
    "# print the classification report\n",
    "\n",
    "y_pred_rf = rf_grid.best_estimator_.predict(X_test)\n",
    "print(classification_report(y_test, y_pred_rf))"
   ]
  },
  {
   "cell_type": "code",
   "execution_count": 107,
   "metadata": {},
   "outputs": [
    {
     "data": {
      "text/plain": [
       "Text(33.0, 0.5, 'True')"
      ]
     },
     "execution_count": 107,
     "metadata": {},
     "output_type": "execute_result"
    },
    {
     "data": {
      "image/png": "[encoded data removed]",
      "text/plain": [
       "<Figure size 432x288 with 1 Axes>"
      ]
     },
     "metadata": {
      "needs_background": "light"
     },
     "output_type": "display_data"
    }
   ],
   "source": [
    "# plot the confusion matrix\n",
    "\n",
    "sns.heatmap(confusion_matrix(y_test, y_pred_rf), annot=True, fmt='4d', cbar=None)\n",
    "plt.xticks([0.5, 1.5],['Not Stroke', 'Stroke'], fontsize=15)\n",
    "plt.yticks([0.5, 1.5],['Not Stroke', 'Stroke'], fontsize=15)\n",
    "plt.xlabel('Predicted', fontsize=18)\n",
    "plt.ylabel('True', fontsize=18)"
   ]
  },
  {
   "cell_type": "code",
   "execution_count": 109,
   "metadata": {},
   "outputs": [
    {
     "data": {
      "text/plain": [
       "RandomizedSearchCV(estimator=RandomForestClassifier(), n_iter=100, n_jobs=-1,\n",
       "                   param_distributions={'bootstrap': [True, False],\n",
       "                                        'max_depth': [10, 20, 30, 40, 50, 60,\n",
       "                                                      70, 80, 90, 100, None],\n",
       "                                        'max_features': ['auto', 'sqrt'],\n",
       "                                        'min_samples_leaf': [1, 2, 4],\n",
       "                                        'min_samples_split': [2, 5, 10],\n",
       "                                        'n_estimators': [200, 400, 600, 800,\n",
       "                                                         1000, 1200, 1400, 1600,\n",
       "                                                         1800, 2000]})"
      ]
     },
     "execution_count": 109,
     "metadata": {},
     "output_type": "execute_result"
    }
   ],
   "source": [
    "rf_grid_res.fit(X_train_res, y_train_res)"
   ]
  },
  {
   "cell_type": "code",
   "execution_count": 110,
   "metadata": {},
   "outputs": [
    {
     "name": "stdout",
     "output_type": "stream",
     "text": [
      "              precision    recall  f1-score   support\n",
      "\n",
      "           0       0.94      0.96      0.95       960\n",
      "           1       0.09      0.06      0.08        62\n",
      "\n",
      "    accuracy                           0.90      1022\n",
      "   macro avg       0.52      0.51      0.51      1022\n",
      "weighted avg       0.89      0.90      0.90      1022\n",
      "\n"
     ]
    },
    {
     "data": {
      "text/plain": [
       "Text(33.0, 0.5, 'True')"
      ]
     },
     "execution_count": 110,
     "metadata": {},
     "output_type": "execute_result"
    },
    {
     "data": {
      "image/png": "[encoded data removed]",
      "text/plain": [
       "<Figure size 432x288 with 1 Axes>"
      ]
     },
     "metadata": {
      "needs_background": "light"
     },
     "output_type": "display_data"
    }
   ],
   "source": [
    "# classification report\n",
    "\n",
    "y_pred_rf_res = rf_grid_res.best_estimator_.predict(X_test)\n",
    "print(classification_report(y_test, y_pred_rf_res))\n",
    "\n",
    "# plot the confusion matrix\n",
    "\n",
    "sns.heatmap(confusion_matrix(y_test, y_pred_rf_res), annot=True, fmt='4d', cbar=None)\n",
    "plt.xticks([0.5, 1.5],['Not Stroke', 'Stroke'], fontsize=15)\n",
    "plt.yticks([0.5, 1.5],['Not Stroke', 'Stroke'], fontsize=15)\n",
    "plt.xlabel('Predicted', fontsize=18)\n",
    "plt.ylabel('True', fontsize=18)"
   ]
  },
  {
   "cell_type": "markdown",
   "metadata": {},
   "source": [
    "### 6.3 xgboost classifier"
   ]
  },
  {
   "cell_type": "code",
   "execution_count": 132,
   "metadata": {},
   "outputs": [],
   "source": [
    "# A parameter grid for XGBoost\n",
    "xgb_params = {\n",
    "        'min_child_weight': [1, 5, 10],\n",
    "        'gamma': [0.5, 1, 1.5, 2, 5],\n",
    "        'subsample': [0.6, 0.8, 1.0],\n",
    "        'colsample_bytree': [0.6, 0.8, 1.0],\n",
    "        'max_depth': [3, 4, 5]\n",
    "        }\n",
    "\n",
    "xgb = XGBClassifier(learning_rate=0.02, n_estimators=600, use_label_encoder=False, objective='binary:logistic',eval_metric='logloss' )\n",
    "\n",
    "xgb_grid = RandomizedSearchCV(xgb, param_distributions=xgb_params, n_iter=50, scoring='roc_auc', verbose=3, random_state=10)"
   ]
  },
  {
   "cell_type": "code",
   "execution_count": 133,
   "metadata": {},
   "outputs": [
    {
     "name": "stdout",
     "output_type": "stream",
     "text": [
      "Fitting 5 folds for each of 50 candidates, totalling 250 fits\n",
      "[CV 1/5] END colsample_bytree=0.8, gamma=1, max_depth=3, min_child_weight=5, subsample=0.8; total time=   1.6s\n",
      "[CV 2/5] END colsample_bytree=0.8, gamma=1, max_depth=3, min_child_weight=5, subsample=0.8; total time=   1.6s\n",
      "[CV 3/5] END colsample_bytree=0.8, gamma=1, max_depth=3, min_child_weight=5, subsample=0.8; total time=   1.6s\n",
      "[CV 4/5] END colsample_bytree=0.8, gamma=1, max_depth=3, min_child_weight=5, subsample=0.8; total time=   1.6s\n",
      "[CV 5/5] END colsample_bytree=0.8, gamma=1, max_depth=3, min_child_weight=5, subsample=0.8; total time=   1.6s\n",
      "[CV 1/5] END colsample_bytree=0.6, gamma=0.5, max_depth=3, min_child_weight=1, subsample=0.8; total time=   1.5s\n",
      "[CV 2/5] END colsample_bytree=0.6, gamma=0.5, max_depth=3, min_child_weight=1, subsample=0.8; total time=   1.5s\n",
      "[CV 3/5] END colsample_bytree=0.6, gamma=0.5, max_depth=3, min_child_weight=1, subsample=0.8; total time=   1.5s\n",
      "[CV 4/5] END colsample_bytree=0.6, gamma=0.5, max_depth=3, min_child_weight=1, subsample=0.8; total time=   1.6s\n",
      "[CV 5/5] END colsample_bytree=0.6, gamma=0.5, max_depth=3, min_child_weight=1, subsample=0.8; total time=   1.5s\n",
      "[CV 1/5] END colsample_bytree=0.8, gamma=0.5, max_depth=4, min_child_weight=5, subsample=0.6; total time=   2.2s\n",
      "[CV 2/5] END colsample_bytree=0.8, gamma=0.5, max_depth=4, min_child_weight=5, subsample=0.6; total time=   2.1s\n",
      "[CV 3/5] END colsample_bytree=0.8, gamma=0.5, max_depth=4, min_child_weight=5, subsample=0.6; total time=   2.0s\n",
      "[CV 4/5] END colsample_bytree=0.8, gamma=0.5, max_depth=4, min_child_weight=5, subsample=0.6; total time=   2.1s\n",
      "[CV 5/5] END colsample_bytree=0.8, gamma=0.5, max_depth=4, min_child_weight=5, subsample=0.6; total time=   2.2s\n",
      "[CV 1/5] END colsample_bytree=1.0, gamma=5, max_depth=3, min_child_weight=1, subsample=0.6; total time=   1.8s\n",
      "[CV 2/5] END colsample_bytree=1.0, gamma=5, max_depth=3, min_child_weight=1, subsample=0.6; total time=   1.9s\n",
      "[CV 3/5] END colsample_bytree=1.0, gamma=5, max_depth=3, min_child_weight=1, subsample=0.6; total time=   2.0s\n",
      "[CV 4/5] END colsample_bytree=1.0, gamma=5, max_depth=3, min_child_weight=1, subsample=0.6; total time=   1.8s\n",
      "[CV 5/5] END colsample_bytree=1.0, gamma=5, max_depth=3, min_child_weight=1, subsample=0.6; total time=   1.8s\n",
      "[CV 1/5] END colsample_bytree=0.8, gamma=1.5, max_depth=3, min_child_weight=5, subsample=0.6; total time=   1.7s\n",
      "[CV 2/5] END colsample_bytree=0.8, gamma=1.5, max_depth=3, min_child_weight=5, subsample=0.6; total time=   1.6s\n",
      "[CV 3/5] END colsample_bytree=0.8, gamma=1.5, max_depth=3, min_child_weight=5, subsample=0.6; total time=   1.6s\n",
      "[CV 4/5] END colsample_bytree=0.8, gamma=1.5, max_depth=3, min_child_weight=5, subsample=0.6; total time=   1.6s\n",
      "[CV 5/5] END colsample_bytree=0.8, gamma=1.5, max_depth=3, min_child_weight=5, subsample=0.6; total time=   1.8s\n",
      "[CV 1/5] END colsample_bytree=1.0, gamma=2, max_depth=3, min_child_weight=5, subsample=0.6; total time=   1.8s\n",
      "[CV 2/5] END colsample_bytree=1.0, gamma=2, max_depth=3, min_child_weight=5, subsample=0.6; total time=   1.8s\n",
      "[CV 3/5] END colsample_bytree=1.0, gamma=2, max_depth=3, min_child_weight=5, subsample=0.6; total time=   1.8s\n",
      "[CV 4/5] END colsample_bytree=1.0, gamma=2, max_depth=3, min_child_weight=5, subsample=0.6; total time=   1.8s\n",
      "[CV 5/5] END colsample_bytree=1.0, gamma=2, max_depth=3, min_child_weight=5, subsample=0.6; total time=   1.8s\n",
      "[CV 1/5] END colsample_bytree=0.6, gamma=2, max_depth=4, min_child_weight=10, subsample=1.0; total time=   1.6s\n",
      "[CV 2/5] END colsample_bytree=0.6, gamma=2, max_depth=4, min_child_weight=10, subsample=1.0; total time=   1.6s\n",
      "[CV 3/5] END colsample_bytree=0.6, gamma=2, max_depth=4, min_child_weight=10, subsample=1.0; total time=   1.6s\n",
      "[CV 4/5] END colsample_bytree=0.6, gamma=2, max_depth=4, min_child_weight=10, subsample=1.0; total time=   1.7s\n",
      "[CV 5/5] END colsample_bytree=0.6, gamma=2, max_depth=4, min_child_weight=10, subsample=1.0; total time=   1.7s\n",
      "[CV 1/5] END colsample_bytree=0.6, gamma=1.5, max_depth=4, min_child_weight=5, subsample=0.6; total time=   1.8s\n",
      "[CV 2/5] END colsample_bytree=0.6, gamma=1.5, max_depth=4, min_child_weight=5, subsample=0.6; total time=   2.0s\n",
      "[CV 3/5] END colsample_bytree=0.6, gamma=1.5, max_depth=4, min_child_weight=5, subsample=0.6; total time=   1.7s\n",
      "[CV 4/5] END colsample_bytree=0.6, gamma=1.5, max_depth=4, min_child_weight=5, subsample=0.6; total time=   1.8s\n",
      "[CV 5/5] END colsample_bytree=0.6, gamma=1.5, max_depth=4, min_child_weight=5, subsample=0.6; total time=   1.7s\n",
      "[CV 1/5] END colsample_bytree=1.0, gamma=1, max_depth=3, min_child_weight=5, subsample=0.6; total time=   1.7s\n",
      "[CV 2/5] END colsample_bytree=1.0, gamma=1, max_depth=3, min_child_weight=5, subsample=0.6; total time=   2.0s\n",
      "[CV 3/5] END colsample_bytree=1.0, gamma=1, max_depth=3, min_child_weight=5, subsample=0.6; total time=   2.0s\n",
      "[CV 4/5] END colsample_bytree=1.0, gamma=1, max_depth=3, min_child_weight=5, subsample=0.6; total time=   1.9s\n",
      "[CV 5/5] END colsample_bytree=1.0, gamma=1, max_depth=3, min_child_weight=5, subsample=0.6; total time=   1.8s\n",
      "[CV 1/5] END colsample_bytree=0.8, gamma=1, max_depth=3, min_child_weight=10, subsample=1.0; total time=   1.4s\n",
      "[CV 2/5] END colsample_bytree=0.8, gamma=1, max_depth=3, min_child_weight=10, subsample=1.0; total time=   1.4s\n",
      "[CV 3/5] END colsample_bytree=0.8, gamma=1, max_depth=3, min_child_weight=10, subsample=1.0; total time=   1.3s\n",
      "[CV 4/5] END colsample_bytree=0.8, gamma=1, max_depth=3, min_child_weight=10, subsample=1.0; total time=   1.3s\n",
      "[CV 5/5] END colsample_bytree=0.8, gamma=1, max_depth=3, min_child_weight=10, subsample=1.0; total time=   1.3s\n",
      "[CV 1/5] END colsample_bytree=0.6, gamma=1, max_depth=5, min_child_weight=1, subsample=1.0; total time=   2.0s\n",
      "[CV 2/5] END colsample_bytree=0.6, gamma=1, max_depth=5, min_child_weight=1, subsample=1.0; total time=   2.2s\n",
      "[CV 3/5] END colsample_bytree=0.6, gamma=1, max_depth=5, min_child_weight=1, subsample=1.0; total time=   2.0s\n",
      "[CV 4/5] END colsample_bytree=0.6, gamma=1, max_depth=5, min_child_weight=1, subsample=1.0; total time=   2.0s\n",
      "[CV 5/5] END colsample_bytree=0.6, gamma=1, max_depth=5, min_child_weight=1, subsample=1.0; total time=   2.0s\n",
      "[CV 1/5] END colsample_bytree=0.8, gamma=1, max_depth=5, min_child_weight=10, subsample=0.8; total time=   2.2s\n",
      "[CV 2/5] END colsample_bytree=0.8, gamma=1, max_depth=5, min_child_weight=10, subsample=0.8; total time=   2.3s\n",
      "[CV 3/5] END colsample_bytree=0.8, gamma=1, max_depth=5, min_child_weight=10, subsample=0.8; total time=   2.2s\n",
      "[CV 4/5] END colsample_bytree=0.8, gamma=1, max_depth=5, min_child_weight=10, subsample=0.8; total time=   2.4s\n",
      "[CV 5/5] END colsample_bytree=0.8, gamma=1, max_depth=5, min_child_weight=10, subsample=0.8; total time=   2.2s\n",
      "[CV 1/5] END colsample_bytree=1.0, gamma=0.5, max_depth=3, min_child_weight=10, subsample=1.0; total time=   1.5s\n",
      "[CV 2/5] END colsample_bytree=1.0, gamma=0.5, max_depth=3, min_child_weight=10, subsample=1.0; total time=   1.4s\n",
      "[CV 3/5] END colsample_bytree=1.0, gamma=0.5, max_depth=3, min_child_weight=10, subsample=1.0; total time=   1.4s\n",
      "[CV 4/5] END colsample_bytree=1.0, gamma=0.5, max_depth=3, min_child_weight=10, subsample=1.0; total time=   1.5s\n",
      "[CV 5/5] END colsample_bytree=1.0, gamma=0.5, max_depth=3, min_child_weight=10, subsample=1.0; total time=   1.4s\n",
      "[CV 1/5] END colsample_bytree=0.8, gamma=1.5, max_depth=5, min_child_weight=5, subsample=1.0; total time=   2.0s\n",
      "[CV 2/5] END colsample_bytree=0.8, gamma=1.5, max_depth=5, min_child_weight=5, subsample=1.0; total time=   2.0s\n",
      "[CV 3/5] END colsample_bytree=0.8, gamma=1.5, max_depth=5, min_child_weight=5, subsample=1.0; total time=   2.2s\n",
      "[CV 4/5] END colsample_bytree=0.8, gamma=1.5, max_depth=5, min_child_weight=5, subsample=1.0; total time=   2.0s\n",
      "[CV 5/5] END colsample_bytree=0.8, gamma=1.5, max_depth=5, min_child_weight=5, subsample=1.0; total time=   2.2s\n",
      "[CV 1/5] END colsample_bytree=0.6, gamma=1, max_depth=4, min_child_weight=10, subsample=0.8; total time=   2.0s\n",
      "[CV 2/5] END colsample_bytree=0.6, gamma=1, max_depth=4, min_child_weight=10, subsample=0.8; total time=   1.8s\n",
      "[CV 3/5] END colsample_bytree=0.6, gamma=1, max_depth=4, min_child_weight=10, subsample=0.8; total time=   1.7s\n"
     ]
    },
    {
     "name": "stdout",
     "output_type": "stream",
     "text": [
      "[CV 4/5] END colsample_bytree=0.6, gamma=1, max_depth=4, min_child_weight=10, subsample=0.8; total time=   1.7s\n",
      "[CV 5/5] END colsample_bytree=0.6, gamma=1, max_depth=4, min_child_weight=10, subsample=0.8; total time=   1.7s\n",
      "[CV 1/5] END colsample_bytree=1.0, gamma=2, max_depth=4, min_child_weight=1, subsample=1.0; total time=   2.0s\n",
      "[CV 2/5] END colsample_bytree=1.0, gamma=2, max_depth=4, min_child_weight=1, subsample=1.0; total time=   1.8s\n",
      "[CV 3/5] END colsample_bytree=1.0, gamma=2, max_depth=4, min_child_weight=1, subsample=1.0; total time=   1.8s\n",
      "[CV 4/5] END colsample_bytree=1.0, gamma=2, max_depth=4, min_child_weight=1, subsample=1.0; total time=   1.8s\n",
      "[CV 5/5] END colsample_bytree=1.0, gamma=2, max_depth=4, min_child_weight=1, subsample=1.0; total time=   1.7s\n",
      "[CV 1/5] END colsample_bytree=0.8, gamma=1, max_depth=5, min_child_weight=10, subsample=1.0; total time=   1.9s\n",
      "[CV 2/5] END colsample_bytree=0.8, gamma=1, max_depth=5, min_child_weight=10, subsample=1.0; total time=   1.9s\n",
      "[CV 3/5] END colsample_bytree=0.8, gamma=1, max_depth=5, min_child_weight=10, subsample=1.0; total time=   1.9s\n",
      "[CV 4/5] END colsample_bytree=0.8, gamma=1, max_depth=5, min_child_weight=10, subsample=1.0; total time=   2.1s\n",
      "[CV 5/5] END colsample_bytree=0.8, gamma=1, max_depth=5, min_child_weight=10, subsample=1.0; total time=   1.9s\n",
      "[CV 1/5] END colsample_bytree=1.0, gamma=0.5, max_depth=5, min_child_weight=5, subsample=1.0; total time=   2.1s\n",
      "[CV 2/5] END colsample_bytree=1.0, gamma=0.5, max_depth=5, min_child_weight=5, subsample=1.0; total time=   2.1s\n",
      "[CV 3/5] END colsample_bytree=1.0, gamma=0.5, max_depth=5, min_child_weight=5, subsample=1.0; total time=   2.2s\n",
      "[CV 4/5] END colsample_bytree=1.0, gamma=0.5, max_depth=5, min_child_weight=5, subsample=1.0; total time=   2.1s\n",
      "[CV 5/5] END colsample_bytree=1.0, gamma=0.5, max_depth=5, min_child_weight=5, subsample=1.0; total time=   2.1s\n",
      "[CV 1/5] END colsample_bytree=0.8, gamma=2, max_depth=3, min_child_weight=10, subsample=0.8; total time=   1.6s\n",
      "[CV 2/5] END colsample_bytree=0.8, gamma=2, max_depth=3, min_child_weight=10, subsample=0.8; total time=   1.6s\n",
      "[CV 3/5] END colsample_bytree=0.8, gamma=2, max_depth=3, min_child_weight=10, subsample=0.8; total time=   1.5s\n",
      "[CV 4/5] END colsample_bytree=0.8, gamma=2, max_depth=3, min_child_weight=10, subsample=0.8; total time=   1.6s\n",
      "[CV 5/5] END colsample_bytree=0.8, gamma=2, max_depth=3, min_child_weight=10, subsample=0.8; total time=   1.7s\n",
      "[CV 1/5] END colsample_bytree=0.6, gamma=0.5, max_depth=5, min_child_weight=10, subsample=0.6; total time=   2.3s\n",
      "[CV 2/5] END colsample_bytree=0.6, gamma=0.5, max_depth=5, min_child_weight=10, subsample=0.6; total time=   1.9s\n",
      "[CV 3/5] END colsample_bytree=0.6, gamma=0.5, max_depth=5, min_child_weight=10, subsample=0.6; total time=   2.0s\n",
      "[CV 4/5] END colsample_bytree=0.6, gamma=0.5, max_depth=5, min_child_weight=10, subsample=0.6; total time=   2.1s\n",
      "[CV 5/5] END colsample_bytree=0.6, gamma=0.5, max_depth=5, min_child_weight=10, subsample=0.6; total time=   2.2s\n",
      "[CV 1/5] END colsample_bytree=1.0, gamma=1, max_depth=3, min_child_weight=1, subsample=0.8; total time=   1.8s\n",
      "[CV 2/5] END colsample_bytree=1.0, gamma=1, max_depth=3, min_child_weight=1, subsample=0.8; total time=   1.8s\n",
      "[CV 3/5] END colsample_bytree=1.0, gamma=1, max_depth=3, min_child_weight=1, subsample=0.8; total time=   1.8s\n",
      "[CV 4/5] END colsample_bytree=1.0, gamma=1, max_depth=3, min_child_weight=1, subsample=0.8; total time=   1.8s\n",
      "[CV 5/5] END colsample_bytree=1.0, gamma=1, max_depth=3, min_child_weight=1, subsample=0.8; total time=   1.9s\n",
      "[CV 1/5] END colsample_bytree=0.8, gamma=1, max_depth=3, min_child_weight=1, subsample=1.0; total time=   1.5s\n",
      "[CV 2/5] END colsample_bytree=0.8, gamma=1, max_depth=3, min_child_weight=1, subsample=1.0; total time=   1.4s\n",
      "[CV 3/5] END colsample_bytree=0.8, gamma=1, max_depth=3, min_child_weight=1, subsample=1.0; total time=   1.6s\n",
      "[CV 4/5] END colsample_bytree=0.8, gamma=1, max_depth=3, min_child_weight=1, subsample=1.0; total time=   1.5s\n",
      "[CV 5/5] END colsample_bytree=0.8, gamma=1, max_depth=3, min_child_weight=1, subsample=1.0; total time=   1.5s\n",
      "[CV 1/5] END colsample_bytree=0.6, gamma=1.5, max_depth=5, min_child_weight=10, subsample=0.6; total time=   2.3s\n",
      "[CV 2/5] END colsample_bytree=0.6, gamma=1.5, max_depth=5, min_child_weight=10, subsample=0.6; total time=   2.2s\n",
      "[CV 3/5] END colsample_bytree=0.6, gamma=1.5, max_depth=5, min_child_weight=10, subsample=0.6; total time=   2.1s\n",
      "[CV 4/5] END colsample_bytree=0.6, gamma=1.5, max_depth=5, min_child_weight=10, subsample=0.6; total time=   2.2s\n",
      "[CV 5/5] END colsample_bytree=0.6, gamma=1.5, max_depth=5, min_child_weight=10, subsample=0.6; total time=   2.1s\n",
      "[CV 1/5] END colsample_bytree=0.8, gamma=2, max_depth=5, min_child_weight=5, subsample=0.8; total time=   2.5s\n",
      "[CV 2/5] END colsample_bytree=0.8, gamma=2, max_depth=5, min_child_weight=5, subsample=0.8; total time=   2.3s\n",
      "[CV 3/5] END colsample_bytree=0.8, gamma=2, max_depth=5, min_child_weight=5, subsample=0.8; total time=   2.2s\n",
      "[CV 4/5] END colsample_bytree=0.8, gamma=2, max_depth=5, min_child_weight=5, subsample=0.8; total time=   2.3s\n",
      "[CV 5/5] END colsample_bytree=0.8, gamma=2, max_depth=5, min_child_weight=5, subsample=0.8; total time=   2.3s\n",
      "[CV 1/5] END colsample_bytree=0.8, gamma=1.5, max_depth=4, min_child_weight=5, subsample=0.8; total time=   2.0s\n",
      "[CV 2/5] END colsample_bytree=0.8, gamma=1.5, max_depth=4, min_child_weight=5, subsample=0.8; total time=   1.9s\n",
      "[CV 3/5] END colsample_bytree=0.8, gamma=1.5, max_depth=4, min_child_weight=5, subsample=0.8; total time=   2.1s\n",
      "[CV 4/5] END colsample_bytree=0.8, gamma=1.5, max_depth=4, min_child_weight=5, subsample=0.8; total time=   1.9s\n",
      "[CV 5/5] END colsample_bytree=0.8, gamma=1.5, max_depth=4, min_child_weight=5, subsample=0.8; total time=   1.9s\n",
      "[CV 1/5] END colsample_bytree=0.8, gamma=2, max_depth=3, min_child_weight=5, subsample=0.6; total time=   1.6s\n",
      "[CV 2/5] END colsample_bytree=0.8, gamma=2, max_depth=3, min_child_weight=5, subsample=0.6; total time=   1.6s\n",
      "[CV 3/5] END colsample_bytree=0.8, gamma=2, max_depth=3, min_child_weight=5, subsample=0.6; total time=   1.6s\n",
      "[CV 4/5] END colsample_bytree=0.8, gamma=2, max_depth=3, min_child_weight=5, subsample=0.6; total time=   1.6s\n",
      "[CV 5/5] END colsample_bytree=0.8, gamma=2, max_depth=3, min_child_weight=5, subsample=0.6; total time=   1.7s\n",
      "[CV 1/5] END colsample_bytree=1.0, gamma=1, max_depth=4, min_child_weight=5, subsample=0.6; total time=   2.4s\n",
      "[CV 2/5] END colsample_bytree=1.0, gamma=1, max_depth=4, min_child_weight=5, subsample=0.6; total time=   2.1s\n",
      "[CV 3/5] END colsample_bytree=1.0, gamma=1, max_depth=4, min_child_weight=5, subsample=0.6; total time=   2.1s\n",
      "[CV 4/5] END colsample_bytree=1.0, gamma=1, max_depth=4, min_child_weight=5, subsample=0.6; total time=   2.1s\n",
      "[CV 5/5] END colsample_bytree=1.0, gamma=1, max_depth=4, min_child_weight=5, subsample=0.6; total time=   2.1s\n",
      "[CV 1/5] END colsample_bytree=0.8, gamma=1, max_depth=4, min_child_weight=1, subsample=1.0; total time=   1.7s\n",
      "[CV 2/5] END colsample_bytree=0.8, gamma=1, max_depth=4, min_child_weight=1, subsample=1.0; total time=   1.7s\n",
      "[CV 3/5] END colsample_bytree=0.8, gamma=1, max_depth=4, min_child_weight=1, subsample=1.0; total time=   1.7s\n",
      "[CV 4/5] END colsample_bytree=0.8, gamma=1, max_depth=4, min_child_weight=1, subsample=1.0; total time=   1.8s\n",
      "[CV 5/5] END colsample_bytree=0.8, gamma=1, max_depth=4, min_child_weight=1, subsample=1.0; total time=   1.6s\n",
      "[CV 1/5] END colsample_bytree=0.6, gamma=1.5, max_depth=5, min_child_weight=1, subsample=0.6; total time=   2.1s\n",
      "[CV 2/5] END colsample_bytree=0.6, gamma=1.5, max_depth=5, min_child_weight=1, subsample=0.6; total time=   2.1s\n",
      "[CV 3/5] END colsample_bytree=0.6, gamma=1.5, max_depth=5, min_child_weight=1, subsample=0.6; total time=   2.1s\n",
      "[CV 4/5] END colsample_bytree=0.6, gamma=1.5, max_depth=5, min_child_weight=1, subsample=0.6; total time=   2.1s\n",
      "[CV 5/5] END colsample_bytree=0.6, gamma=1.5, max_depth=5, min_child_weight=1, subsample=0.6; total time=   2.2s\n",
      "[CV 1/5] END colsample_bytree=0.6, gamma=5, max_depth=3, min_child_weight=5, subsample=0.6; total time=   1.5s\n",
      "[CV 2/5] END colsample_bytree=0.6, gamma=5, max_depth=3, min_child_weight=5, subsample=0.6; total time=   1.6s\n"
     ]
    },
    {
     "name": "stdout",
     "output_type": "stream",
     "text": [
      "[CV 3/5] END colsample_bytree=0.6, gamma=5, max_depth=3, min_child_weight=5, subsample=0.6; total time=   1.6s\n",
      "[CV 4/5] END colsample_bytree=0.6, gamma=5, max_depth=3, min_child_weight=5, subsample=0.6; total time=   1.6s\n",
      "[CV 5/5] END colsample_bytree=0.6, gamma=5, max_depth=3, min_child_weight=5, subsample=0.6; total time=   1.4s\n",
      "[CV 1/5] END colsample_bytree=1.0, gamma=1.5, max_depth=4, min_child_weight=5, subsample=0.6; total time=   2.2s\n",
      "[CV 2/5] END colsample_bytree=1.0, gamma=1.5, max_depth=4, min_child_weight=5, subsample=0.6; total time=   2.1s\n",
      "[CV 3/5] END colsample_bytree=1.0, gamma=1.5, max_depth=4, min_child_weight=5, subsample=0.6; total time=   2.1s\n",
      "[CV 4/5] END colsample_bytree=1.0, gamma=1.5, max_depth=4, min_child_weight=5, subsample=0.6; total time=   2.1s\n",
      "[CV 5/5] END colsample_bytree=1.0, gamma=1.5, max_depth=4, min_child_weight=5, subsample=0.6; total time=   2.2s\n",
      "[CV 1/5] END colsample_bytree=0.6, gamma=5, max_depth=3, min_child_weight=5, subsample=1.0; total time=   1.2s\n",
      "[CV 2/5] END colsample_bytree=0.6, gamma=5, max_depth=3, min_child_weight=5, subsample=1.0; total time=   1.2s\n",
      "[CV 3/5] END colsample_bytree=0.6, gamma=5, max_depth=3, min_child_weight=5, subsample=1.0; total time=   1.2s\n",
      "[CV 4/5] END colsample_bytree=0.6, gamma=5, max_depth=3, min_child_weight=5, subsample=1.0; total time=   1.2s\n",
      "[CV 5/5] END colsample_bytree=0.6, gamma=5, max_depth=3, min_child_weight=5, subsample=1.0; total time=   1.2s\n",
      "[CV 1/5] END colsample_bytree=1.0, gamma=5, max_depth=4, min_child_weight=10, subsample=1.0; total time=   1.7s\n",
      "[CV 2/5] END colsample_bytree=1.0, gamma=5, max_depth=4, min_child_weight=10, subsample=1.0; total time=   1.7s\n",
      "[CV 3/5] END colsample_bytree=1.0, gamma=5, max_depth=4, min_child_weight=10, subsample=1.0; total time=   1.7s\n",
      "[CV 4/5] END colsample_bytree=1.0, gamma=5, max_depth=4, min_child_weight=10, subsample=1.0; total time=   1.7s\n",
      "[CV 5/5] END colsample_bytree=1.0, gamma=5, max_depth=4, min_child_weight=10, subsample=1.0; total time=   1.9s\n",
      "[CV 1/5] END colsample_bytree=0.8, gamma=0.5, max_depth=4, min_child_weight=1, subsample=1.0; total time=   1.6s\n",
      "[CV 2/5] END colsample_bytree=0.8, gamma=0.5, max_depth=4, min_child_weight=1, subsample=1.0; total time=   1.7s\n",
      "[CV 3/5] END colsample_bytree=0.8, gamma=0.5, max_depth=4, min_child_weight=1, subsample=1.0; total time=   1.7s\n",
      "[CV 4/5] END colsample_bytree=0.8, gamma=0.5, max_depth=4, min_child_weight=1, subsample=1.0; total time=   1.6s\n",
      "[CV 5/5] END colsample_bytree=0.8, gamma=0.5, max_depth=4, min_child_weight=1, subsample=1.0; total time=   1.6s\n",
      "[CV 1/5] END colsample_bytree=1.0, gamma=1, max_depth=5, min_child_weight=10, subsample=1.0; total time=   2.0s\n",
      "[CV 2/5] END colsample_bytree=1.0, gamma=1, max_depth=5, min_child_weight=10, subsample=1.0; total time=   2.0s\n",
      "[CV 3/5] END colsample_bytree=1.0, gamma=1, max_depth=5, min_child_weight=10, subsample=1.0; total time=   2.0s\n",
      "[CV 4/5] END colsample_bytree=1.0, gamma=1, max_depth=5, min_child_weight=10, subsample=1.0; total time=   2.2s\n",
      "[CV 5/5] END colsample_bytree=1.0, gamma=1, max_depth=5, min_child_weight=10, subsample=1.0; total time=   2.0s\n",
      "[CV 1/5] END colsample_bytree=0.6, gamma=0.5, max_depth=3, min_child_weight=10, subsample=0.6; total time=   1.4s\n",
      "[CV 2/5] END colsample_bytree=0.6, gamma=0.5, max_depth=3, min_child_weight=10, subsample=0.6; total time=   1.4s\n",
      "[CV 3/5] END colsample_bytree=0.6, gamma=0.5, max_depth=3, min_child_weight=10, subsample=0.6; total time=   1.4s\n",
      "[CV 4/5] END colsample_bytree=0.6, gamma=0.5, max_depth=3, min_child_weight=10, subsample=0.6; total time=   1.5s\n",
      "[CV 5/5] END colsample_bytree=0.6, gamma=0.5, max_depth=3, min_child_weight=10, subsample=0.6; total time=   1.5s\n",
      "[CV 1/5] END colsample_bytree=1.0, gamma=0.5, max_depth=3, min_child_weight=5, subsample=0.8; total time=   1.7s\n",
      "[CV 2/5] END colsample_bytree=1.0, gamma=0.5, max_depth=3, min_child_weight=5, subsample=0.8; total time=   1.7s\n",
      "[CV 3/5] END colsample_bytree=1.0, gamma=0.5, max_depth=3, min_child_weight=5, subsample=0.8; total time=   1.8s\n",
      "[CV 4/5] END colsample_bytree=1.0, gamma=0.5, max_depth=3, min_child_weight=5, subsample=0.8; total time=   1.7s\n",
      "[CV 5/5] END colsample_bytree=1.0, gamma=0.5, max_depth=3, min_child_weight=5, subsample=0.8; total time=   1.8s\n",
      "[CV 1/5] END colsample_bytree=0.6, gamma=0.5, max_depth=5, min_child_weight=10, subsample=1.0; total time=   1.9s\n",
      "[CV 2/5] END colsample_bytree=0.6, gamma=0.5, max_depth=5, min_child_weight=10, subsample=1.0; total time=   1.8s\n",
      "[CV 3/5] END colsample_bytree=0.6, gamma=0.5, max_depth=5, min_child_weight=10, subsample=1.0; total time=   2.0s\n",
      "[CV 4/5] END colsample_bytree=0.6, gamma=0.5, max_depth=5, min_child_weight=10, subsample=1.0; total time=   1.9s\n",
      "[CV 5/5] END colsample_bytree=0.6, gamma=0.5, max_depth=5, min_child_weight=10, subsample=1.0; total time=   1.8s\n",
      "[CV 1/5] END colsample_bytree=0.6, gamma=5, max_depth=3, min_child_weight=1, subsample=1.0; total time=   1.5s\n",
      "[CV 2/5] END colsample_bytree=0.6, gamma=5, max_depth=3, min_child_weight=1, subsample=1.0; total time=   1.4s\n",
      "[CV 3/5] END colsample_bytree=0.6, gamma=5, max_depth=3, min_child_weight=1, subsample=1.0; total time=   1.3s\n",
      "[CV 4/5] END colsample_bytree=0.6, gamma=5, max_depth=3, min_child_weight=1, subsample=1.0; total time=   1.3s\n",
      "[CV 5/5] END colsample_bytree=0.6, gamma=5, max_depth=3, min_child_weight=1, subsample=1.0; total time=   1.3s\n",
      "[CV 1/5] END colsample_bytree=0.8, gamma=1.5, max_depth=5, min_child_weight=1, subsample=0.8; total time=   2.4s\n",
      "[CV 2/5] END colsample_bytree=0.8, gamma=1.5, max_depth=5, min_child_weight=1, subsample=0.8; total time=   2.3s\n",
      "[CV 3/5] END colsample_bytree=0.8, gamma=1.5, max_depth=5, min_child_weight=1, subsample=0.8; total time=   2.3s\n",
      "[CV 4/5] END colsample_bytree=0.8, gamma=1.5, max_depth=5, min_child_weight=1, subsample=0.8; total time=   2.5s\n",
      "[CV 5/5] END colsample_bytree=0.8, gamma=1.5, max_depth=5, min_child_weight=1, subsample=0.8; total time=   2.3s\n",
      "[CV 1/5] END colsample_bytree=1.0, gamma=2, max_depth=3, min_child_weight=1, subsample=1.0; total time=   1.4s\n",
      "[CV 2/5] END colsample_bytree=1.0, gamma=2, max_depth=3, min_child_weight=1, subsample=1.0; total time=   1.4s\n",
      "[CV 3/5] END colsample_bytree=1.0, gamma=2, max_depth=3, min_child_weight=1, subsample=1.0; total time=   1.4s\n",
      "[CV 4/5] END colsample_bytree=1.0, gamma=2, max_depth=3, min_child_weight=1, subsample=1.0; total time=   1.3s\n",
      "[CV 5/5] END colsample_bytree=1.0, gamma=2, max_depth=3, min_child_weight=1, subsample=1.0; total time=   1.5s\n",
      "[CV 1/5] END colsample_bytree=0.6, gamma=2, max_depth=4, min_child_weight=10, subsample=0.8; total time=   1.8s\n",
      "[CV 2/5] END colsample_bytree=0.6, gamma=2, max_depth=4, min_child_weight=10, subsample=0.8; total time=   1.9s\n",
      "[CV 3/5] END colsample_bytree=0.6, gamma=2, max_depth=4, min_child_weight=10, subsample=0.8; total time=   2.1s\n",
      "[CV 4/5] END colsample_bytree=0.6, gamma=2, max_depth=4, min_child_weight=10, subsample=0.8; total time=   1.9s\n",
      "[CV 5/5] END colsample_bytree=0.6, gamma=2, max_depth=4, min_child_weight=10, subsample=0.8; total time=   1.8s\n",
      "[CV 1/5] END colsample_bytree=1.0, gamma=5, max_depth=4, min_child_weight=1, subsample=0.8; total time=   2.2s\n",
      "[CV 2/5] END colsample_bytree=1.0, gamma=5, max_depth=4, min_child_weight=1, subsample=0.8; total time=   2.3s\n",
      "[CV 3/5] END colsample_bytree=1.0, gamma=5, max_depth=4, min_child_weight=1, subsample=0.8; total time=   2.4s\n",
      "[CV 4/5] END colsample_bytree=1.0, gamma=5, max_depth=4, min_child_weight=1, subsample=0.8; total time=   2.5s\n",
      "[CV 5/5] END colsample_bytree=1.0, gamma=5, max_depth=4, min_child_weight=1, subsample=0.8; total time=   2.5s\n",
      "[CV 1/5] END colsample_bytree=1.0, gamma=0.5, max_depth=5, min_child_weight=10, subsample=0.8; total time=   2.6s\n",
      "[CV 2/5] END colsample_bytree=1.0, gamma=0.5, max_depth=5, min_child_weight=10, subsample=0.8; total time=   2.5s\n",
      "[CV 3/5] END colsample_bytree=1.0, gamma=0.5, max_depth=5, min_child_weight=10, subsample=0.8; total time=   2.7s\n",
      "[CV 4/5] END colsample_bytree=1.0, gamma=0.5, max_depth=5, min_child_weight=10, subsample=0.8; total time=   2.5s\n",
      "[CV 5/5] END colsample_bytree=1.0, gamma=0.5, max_depth=5, min_child_weight=10, subsample=0.8; total time=   2.5s\n"
     ]
    },
    {
     "name": "stdout",
     "output_type": "stream",
     "text": [
      "[CV 1/5] END colsample_bytree=0.8, gamma=5, max_depth=5, min_child_weight=10, subsample=1.0; total time=   1.9s\n",
      "[CV 2/5] END colsample_bytree=0.8, gamma=5, max_depth=5, min_child_weight=10, subsample=1.0; total time=   2.2s\n",
      "[CV 3/5] END colsample_bytree=0.8, gamma=5, max_depth=5, min_child_weight=10, subsample=1.0; total time=   2.0s\n",
      "[CV 4/5] END colsample_bytree=0.8, gamma=5, max_depth=5, min_child_weight=10, subsample=1.0; total time=   2.0s\n",
      "[CV 5/5] END colsample_bytree=0.8, gamma=5, max_depth=5, min_child_weight=10, subsample=1.0; total time=   2.0s\n",
      "[CV 1/5] END colsample_bytree=1.0, gamma=2, max_depth=3, min_child_weight=1, subsample=0.6; total time=   1.8s\n",
      "[CV 2/5] END colsample_bytree=1.0, gamma=2, max_depth=3, min_child_weight=1, subsample=0.6; total time=   1.9s\n",
      "[CV 3/5] END colsample_bytree=1.0, gamma=2, max_depth=3, min_child_weight=1, subsample=0.6; total time=   2.0s\n",
      "[CV 4/5] END colsample_bytree=1.0, gamma=2, max_depth=3, min_child_weight=1, subsample=0.6; total time=   2.2s\n",
      "[CV 5/5] END colsample_bytree=1.0, gamma=2, max_depth=3, min_child_weight=1, subsample=0.6; total time=   1.8s\n",
      "[CV 1/5] END colsample_bytree=0.8, gamma=1.5, max_depth=3, min_child_weight=1, subsample=0.6; total time=   1.6s\n",
      "[CV 2/5] END colsample_bytree=0.8, gamma=1.5, max_depth=3, min_child_weight=1, subsample=0.6; total time=   1.6s\n",
      "[CV 3/5] END colsample_bytree=0.8, gamma=1.5, max_depth=3, min_child_weight=1, subsample=0.6; total time=   1.6s\n",
      "[CV 4/5] END colsample_bytree=0.8, gamma=1.5, max_depth=3, min_child_weight=1, subsample=0.6; total time=   1.6s\n",
      "[CV 5/5] END colsample_bytree=0.8, gamma=1.5, max_depth=3, min_child_weight=1, subsample=0.6; total time=   1.8s\n",
      "[CV 1/5] END colsample_bytree=0.6, gamma=1, max_depth=4, min_child_weight=1, subsample=0.8; total time=   1.9s\n",
      "[CV 2/5] END colsample_bytree=0.6, gamma=1, max_depth=4, min_child_weight=1, subsample=0.8; total time=   1.8s\n",
      "[CV 3/5] END colsample_bytree=0.6, gamma=1, max_depth=4, min_child_weight=1, subsample=0.8; total time=   2.0s\n",
      "[CV 4/5] END colsample_bytree=0.6, gamma=1, max_depth=4, min_child_weight=1, subsample=0.8; total time=   1.9s\n",
      "[CV 5/5] END colsample_bytree=0.6, gamma=1, max_depth=4, min_child_weight=1, subsample=0.8; total time=   2.0s\n",
      "[CV 1/5] END colsample_bytree=0.6, gamma=2, max_depth=3, min_child_weight=10, subsample=0.8; total time=   1.6s\n",
      "[CV 2/5] END colsample_bytree=0.6, gamma=2, max_depth=3, min_child_weight=10, subsample=0.8; total time=   1.8s\n",
      "[CV 3/5] END colsample_bytree=0.6, gamma=2, max_depth=3, min_child_weight=10, subsample=0.8; total time=   1.5s\n",
      "[CV 4/5] END colsample_bytree=0.6, gamma=2, max_depth=3, min_child_weight=10, subsample=0.8; total time=   1.8s\n",
      "[CV 5/5] END colsample_bytree=0.6, gamma=2, max_depth=3, min_child_weight=10, subsample=0.8; total time=   1.7s\n",
      "[CV 1/5] END colsample_bytree=0.8, gamma=2, max_depth=4, min_child_weight=1, subsample=0.6; total time=   2.3s\n",
      "[CV 2/5] END colsample_bytree=0.8, gamma=2, max_depth=4, min_child_weight=1, subsample=0.6; total time=   2.0s\n",
      "[CV 3/5] END colsample_bytree=0.8, gamma=2, max_depth=4, min_child_weight=1, subsample=0.6; total time=   2.1s\n",
      "[CV 4/5] END colsample_bytree=0.8, gamma=2, max_depth=4, min_child_weight=1, subsample=0.6; total time=   2.1s\n",
      "[CV 5/5] END colsample_bytree=0.8, gamma=2, max_depth=4, min_child_weight=1, subsample=0.6; total time=   2.1s\n"
     ]
    },
    {
     "data": {
      "text/plain": [
       "RandomizedSearchCV(estimator=XGBClassifier(base_score=None, booster=None,\n",
       "                                           colsample_bylevel=None,\n",
       "                                           colsample_bynode=None,\n",
       "                                           colsample_bytree=None,\n",
       "                                           eval_metric='logloss', gamma=None,\n",
       "                                           gpu_id=None, importance_type='gain',\n",
       "                                           interaction_constraints=None,\n",
       "                                           learning_rate=0.02,\n",
       "                                           max_delta_step=None, max_depth=None,\n",
       "                                           min_child_weight=None, missing=nan,\n",
       "                                           monotone_constraints=None,...\n",
       "                                           random_state=None, reg_alpha=None,\n",
       "                                           reg_lambda=None,\n",
       "                                           scale_pos_weight=None,\n",
       "                                           subsample=None, tree_method=None,\n",
       "                                           use_label_encoder=False,\n",
       "                                           validate_parameters=None,\n",
       "                                           verbosity=None),\n",
       "                   n_iter=50,\n",
       "                   param_distributions={'colsample_bytree': [0.6, 0.8, 1.0],\n",
       "                                        'gamma': [0.5, 1, 1.5, 2, 5],\n",
       "                                        'max_depth': [3, 4, 5],\n",
       "                                        'min_child_weight': [1, 5, 10],\n",
       "                                        'subsample': [0.6, 0.8, 1.0]},\n",
       "                   random_state=10, scoring='roc_auc', verbose=3)"
      ]
     },
     "execution_count": 133,
     "metadata": {},
     "output_type": "execute_result"
    }
   ],
   "source": [
    "xgb_grid.fit(X_train_res, y_train_res)"
   ]
  },
  {
   "cell_type": "code",
   "execution_count": 134,
   "metadata": {},
   "outputs": [
    {
     "name": "stdout",
     "output_type": "stream",
     "text": [
      "              precision    recall  f1-score   support\n",
      "\n",
      "           0       0.95      0.92      0.94       960\n",
      "           1       0.18      0.27      0.22        62\n",
      "\n",
      "    accuracy                           0.88      1022\n",
      "   macro avg       0.57      0.60      0.58      1022\n",
      "weighted avg       0.90      0.88      0.89      1022\n",
      "\n"
     ]
    },
    {
     "data": {
      "text/plain": [
       "Text(33.0, 0.5, 'True')"
      ]
     },
     "execution_count": 134,
     "metadata": {},
     "output_type": "execute_result"
    },
    {
     "data": {
      "image/png": "[encoded data removed]",
      "text/plain": [
       "<Figure size 432x288 with 1 Axes>"
      ]
     },
     "metadata": {
      "needs_background": "light"
     },
     "output_type": "display_data"
    }
   ],
   "source": [
    "# classification report\n",
    "\n",
    "y_pred_xgb_res = xgb_grid.best_estimator_.predict(X_test)\n",
    "print(classification_report(y_test, y_pred_xgb_res))\n",
    "\n",
    "# plot the confusion matrix\n",
    "\n",
    "sns.heatmap(confusion_matrix(y_test, y_pred_xgb_res), annot=True, fmt='4d', cbar=None)\n",
    "plt.xticks([0.5, 1.5],['Not Stroke', 'Stroke'], fontsize=15)\n",
    "plt.yticks([0.5, 1.5],['Not Stroke', 'Stroke'], fontsize=15)\n",
    "plt.xlabel('Predicted', fontsize=18)\n",
    "plt.ylabel('True', fontsize=18)"
   ]
  },
  {
   "cell_type": "code",
   "execution_count": 143,
   "metadata": {},
   "outputs": [
    {
     "data": {
      "text/plain": [
       "0.21794871794871798"
      ]
     },
     "execution_count": 143,
     "metadata": {},
     "output_type": "execute_result"
    }
   ],
   "source": [
    "f1_score(y_test, y_pred_xgb_res)"
   ]
  },
  {
   "cell_type": "code",
   "execution_count": 138,
   "metadata": {},
   "outputs": [
    {
     "name": "stdout",
     "output_type": "stream",
     "text": [
      "ROC_AUC Score is 0.81\n"
     ]
    }
   ],
   "source": [
    "y_prob = xgb_grid.best_estimator_.predict_proba(X_test)[:,1]\n",
    "print(f'ROC_AUC Score is {roc_auc_score(y_test, y_prob):.2f}')"
   ]
  },
  {
   "cell_type": "code",
   "execution_count": 141,
   "metadata": {},
   "outputs": [
    {
     "data": {
      "image/png": "[encoded data removed]",
      "text/plain": [
       "<Figure size 576x576 with 1 Axes>"
      ]
     },
     "metadata": {},
     "output_type": "display_data"
    }
   ],
   "source": [
    "# Roc AUC Curve\n",
    "false_positive_rate, true_positive_rate, thresholds = roc_curve(y_test, y_prob)\n",
    "roc_auc = auc(false_positive_rate, true_positive_rate)\n",
    "\n",
    "sns.set_theme(style = 'white')\n",
    "plt.figure(figsize = (8, 8))\n",
    "plt.plot(false_positive_rate,true_positive_rate, color = '#b01717', label = 'AUC = %0.3f' % roc_auc)\n",
    "plt.legend(loc = 'lower right')\n",
    "plt.plot([0, 1], [0, 1], linestyle = '--', color = '#174ab0')\n",
    "plt.axis('tight')\n",
    "plt.xlim(0,1)\n",
    "plt.ylim(0,1)\n",
    "plt.ylabel('True Positive Rate', fontsize=15)\n",
    "plt.xlabel('False Positive Rate', fontsize=15)\n",
    "plt.legend()\n",
    "plt.show()"
   ]
  }
 ],
 "metadata": {
  "kernelspec": {
   "display_name": "Python 3",
   "language": "python",
   "name": "python3"
  },
  "language_info": {
   "codemirror_mode": {
    "name": "ipython",
    "version": 3
   },
   "file_extension": ".py",
   "mimetype": "text/x-python",
   "name": "python",
   "nbconvert_exporter": "python",
   "pygments_lexer": "ipython3",
   "version": "3.7.4"
  }
 },
 "nbformat": 4,
 "nbformat_minor": 4
}
